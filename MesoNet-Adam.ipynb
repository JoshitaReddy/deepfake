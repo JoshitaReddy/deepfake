{
 "cells": [
  {
   "cell_type": "code",
   "execution_count": 1,
   "id": "25f751d6",
   "metadata": {},
   "outputs": [
    {
     "name": "stdout",
     "output_type": "stream",
     "text": [
      "WARNING:tensorflow:From C:\\Users\\joshi\\anaconda3\\Lib\\site-packages\\keras\\src\\losses.py:2976: The name tf.losses.sparse_softmax_cross_entropy is deprecated. Please use tf.compat.v1.losses.sparse_softmax_cross_entropy instead.\n",
      "\n"
     ]
    }
   ],
   "source": [
    "import tensorflow as tf\n",
    "from tensorflow.keras.layers import Input, Dense, Flatten, Conv2D, MaxPooling2D, BatchNormalization, Dropout, Reshape, Concatenate, LeakyReLU\n",
    "from tensorflow.keras.optimizers import Adam\n",
    "from tensorflow.keras.models import Model \n",
    "from keras.preprocessing.image import ImageDataGenerator\n",
    "import numpy as np\n",
    "from keras.preprocessing import image\n",
    "import cv2\n",
    "import math\n",
    "import matplotlib.pyplot as plt"
   ]
  },
  {
   "cell_type": "code",
   "execution_count": 23,
   "id": "8c24b11a",
   "metadata": {},
   "outputs": [],
   "source": [
    "labels = ['Fake','Real']"
   ]
  },
  {
   "cell_type": "code",
   "execution_count": 2,
   "id": "056f3f9c",
   "metadata": {},
   "outputs": [
    {
     "name": "stdout",
     "output_type": "stream",
     "text": [
      "Found 12235 images belonging to 2 classes.\n"
     ]
    }
   ],
   "source": [
    "train_datagen = ImageDataGenerator(rescale = 1./255,\n",
    "                                   shear_range = 0.2,\n",
    "                                   zoom_range = 0.2,\n",
    "                                   horizontal_flip = True)\n",
    "training_set = train_datagen.flow_from_directory(\"C:/Users/joshi/OneDrive/Desktop/FaceForensics++/ImagesFinal/train\",\n",
    "                                                 target_size = (192, 192),\n",
    "                                                 batch_size = 32,\n",
    "                                                 class_mode = 'binary')"
   ]
  },
  {
   "cell_type": "code",
   "execution_count": 3,
   "id": "ab9293f6",
   "metadata": {},
   "outputs": [
    {
     "name": "stdout",
     "output_type": "stream",
     "text": [
      "Found 2624 images belonging to 2 classes.\n"
     ]
    }
   ],
   "source": [
    "test_datagen=ImageDataGenerator(rescale=1./255)\n",
    "test_set = test_datagen.flow_from_directory('C:/Users/joshi/OneDrive/Desktop/FaceForensics++/ImagesFinal/test',\n",
    "                                            target_size = (192,192),\n",
    "                                            batch_size = 32,\n",
    "                                            class_mode = 'binary')"
   ]
  },
  {
   "cell_type": "code",
   "execution_count": 4,
   "id": "3482bd84",
   "metadata": {},
   "outputs": [
    {
     "name": "stdout",
     "output_type": "stream",
     "text": [
      "Found 2621 images belonging to 2 classes.\n"
     ]
    }
   ],
   "source": [
    "val_datagen=ImageDataGenerator(rescale=1./255)\n",
    "val_set = val_datagen.flow_from_directory('C:/Users/joshi/OneDrive/Desktop/FaceForensics++/ImagesFinal/val',\n",
    "                                            target_size = (192, 192),\n",
    "                                            batch_size = 32,\n",
    "                                            class_mode = 'binary')"
   ]
  },
  {
   "cell_type": "code",
   "execution_count": 27,
   "id": "1896760b",
   "metadata": {},
   "outputs": [],
   "source": [
    "#Adam\n",
    "x = Input(shape = (228, 228, 3))\n",
    "x1 = Conv2D(8, (3, 3), padding='same', activation = 'relu')(x)\n",
    "x1 = BatchNormalization()(x1)\n",
    "x1 = MaxPooling2D(pool_size=(2, 2), padding='same')(x1)\n",
    "\n",
    "x2 = Conv2D(8, (5, 5), padding='same', activation = 'relu')(x1)\n",
    "x2 = BatchNormalization()(x2)\n",
    "x2 = MaxPooling2D(pool_size=(2, 2), padding='same')(x2)\n",
    "\n",
    "x3 = Conv2D(16, (5, 5), padding='same', activation = 'relu')(x2)\n",
    "x3 = BatchNormalization()(x3)\n",
    "x3 = MaxPooling2D(pool_size=(2, 2), padding='same')(x3)\n",
    "\n",
    "x4 = Conv2D(16, (5, 5), padding='same', activation = 'relu')(x3)\n",
    "x4 = BatchNormalization()(x4)\n",
    "x4 = MaxPooling2D(pool_size=(4, 4), padding='same')(x4)\n",
    "\n",
    "y = Flatten()(x4)\n",
    "y = Dropout(0.5)(y)\n",
    "y = Dense(16)(y)\n",
    "y = LeakyReLU(alpha=0.1)(y)\n",
    "y = Dropout(0.5)(y)\n",
    "y = Dense(1, activation = 'sigmoid')(y)\n",
    "cnn = Model(inputs = x, outputs = y)"
   ]
  },
  {
   "cell_type": "code",
   "execution_count": 28,
   "id": "de08a3b4",
   "metadata": {},
   "outputs": [],
   "source": [
    "cnn.compile(optimizer='adam', loss='binary_crossentropy', metrics=['accuracy'])"
   ]
  },
  {
   "cell_type": "code",
   "execution_count": 31,
   "id": "f1349e01",
   "metadata": {
    "scrolled": true
   },
   "outputs": [
    {
     "name": "stdout",
     "output_type": "stream",
     "text": [
      "Epoch 1/25\n",
      "50/50 [==============================] - 28s 565ms/step - loss: 0.4810 - accuracy: 0.7710 - val_loss: 0.3845 - val_accuracy: 0.8458\n",
      "Epoch 2/25\n",
      "50/50 [==============================] - 29s 580ms/step - loss: 0.4749 - accuracy: 0.7679 - val_loss: 0.3949 - val_accuracy: 0.8209\n",
      "Epoch 3/25\n",
      "50/50 [==============================] - 29s 588ms/step - loss: 0.4542 - accuracy: 0.7955 - val_loss: 0.4412 - val_accuracy: 0.8010\n",
      "Epoch 4/25\n",
      "50/50 [==============================] - 30s 591ms/step - loss: 0.4642 - accuracy: 0.7754 - val_loss: 0.3592 - val_accuracy: 0.8706\n",
      "Epoch 5/25\n",
      "50/50 [==============================] - 30s 597ms/step - loss: 0.4186 - accuracy: 0.8068 - val_loss: 0.4061 - val_accuracy: 0.8209\n",
      "Epoch 6/25\n",
      "50/50 [==============================] - 30s 593ms/step - loss: 0.4438 - accuracy: 0.7880 - val_loss: 0.4323 - val_accuracy: 0.8010\n",
      "Epoch 7/25\n",
      "50/50 [==============================] - 30s 596ms/step - loss: 0.4509 - accuracy: 0.7961 - val_loss: 0.3488 - val_accuracy: 0.8756\n",
      "Epoch 8/25\n",
      "50/50 [==============================] - 31s 623ms/step - loss: 0.4051 - accuracy: 0.8087 - val_loss: 0.3379 - val_accuracy: 0.8308\n",
      "Epoch 9/25\n",
      "50/50 [==============================] - 34s 684ms/step - loss: 0.3733 - accuracy: 0.8300 - val_loss: 0.2905 - val_accuracy: 0.8856\n",
      "Epoch 10/25\n",
      "50/50 [==============================] - 31s 615ms/step - loss: 0.3411 - accuracy: 0.8501 - val_loss: 0.3073 - val_accuracy: 0.8259\n",
      "Epoch 11/25\n",
      "50/50 [==============================] - 31s 623ms/step - loss: 0.3494 - accuracy: 0.8476 - val_loss: 0.2543 - val_accuracy: 0.8905\n",
      "Epoch 12/25\n",
      "50/50 [==============================] - 31s 612ms/step - loss: 0.3245 - accuracy: 0.8563 - val_loss: 0.2558 - val_accuracy: 0.9204\n",
      "Epoch 13/25\n",
      "50/50 [==============================] - 31s 616ms/step - loss: 0.3272 - accuracy: 0.8607 - val_loss: 0.2240 - val_accuracy: 0.9055\n",
      "Epoch 14/25\n",
      "50/50 [==============================] - 30s 607ms/step - loss: 0.3190 - accuracy: 0.8488 - val_loss: 0.2650 - val_accuracy: 0.9055\n",
      "Epoch 15/25\n",
      "50/50 [==============================] - 31s 611ms/step - loss: 0.3045 - accuracy: 0.8595 - val_loss: 0.2385 - val_accuracy: 0.9104\n",
      "Epoch 16/25\n",
      "50/50 [==============================] - 30s 608ms/step - loss: 0.3106 - accuracy: 0.8563 - val_loss: 0.3087 - val_accuracy: 0.8706\n",
      "Epoch 17/25\n",
      "50/50 [==============================] - 31s 612ms/step - loss: 0.3040 - accuracy: 0.8726 - val_loss: 0.2348 - val_accuracy: 0.9254\n",
      "Epoch 18/25\n",
      "50/50 [==============================] - 30s 608ms/step - loss: 0.2796 - accuracy: 0.8833 - val_loss: 0.2991 - val_accuracy: 0.8408\n",
      "Epoch 19/25\n",
      "50/50 [==============================] - 31s 618ms/step - loss: 0.2975 - accuracy: 0.8764 - val_loss: 0.2145 - val_accuracy: 0.9104\n",
      "Epoch 20/25\n",
      "50/50 [==============================] - 31s 624ms/step - loss: 0.2705 - accuracy: 0.8852 - val_loss: 0.1889 - val_accuracy: 0.9303\n",
      "Epoch 21/25\n",
      "50/50 [==============================] - 31s 613ms/step - loss: 0.2921 - accuracy: 0.8733 - val_loss: 0.2050 - val_accuracy: 0.9254\n",
      "Epoch 22/25\n",
      "50/50 [==============================] - 31s 611ms/step - loss: 0.2799 - accuracy: 0.8783 - val_loss: 0.2472 - val_accuracy: 0.9154\n",
      "Epoch 23/25\n",
      "50/50 [==============================] - 31s 612ms/step - loss: 0.2295 - accuracy: 0.9009 - val_loss: 0.1911 - val_accuracy: 0.9303\n",
      "Epoch 24/25\n",
      "50/50 [==============================] - 31s 616ms/step - loss: 0.2609 - accuracy: 0.9015 - val_loss: 0.2542 - val_accuracy: 0.8955\n",
      "Epoch 25/25\n",
      "50/50 [==============================] - 31s 619ms/step - loss: 0.2582 - accuracy: 0.8990 - val_loss: 0.2261 - val_accuracy: 0.9154\n"
     ]
    },
    {
     "data": {
      "text/plain": [
       "<keras.src.callbacks.History at 0x27cb3853d90>"
      ]
     },
     "execution_count": 31,
     "metadata": {},
     "output_type": "execute_result"
    }
   ],
   "source": [
    "cnn.fit(x=training_set,validation_data=test_set,epochs=25)"
   ]
  },
  {
   "cell_type": "code",
   "execution_count": null,
   "id": "05da819c",
   "metadata": {},
   "outputs": [],
   "source": []
  }
 ],
 "metadata": {
  "kernelspec": {
   "display_name": "Python 3 (ipykernel)",
   "language": "python",
   "name": "python3"
  },
  "language_info": {
   "codemirror_mode": {
    "name": "ipython",
    "version": 3
   },
   "file_extension": ".py",
   "mimetype": "text/x-python",
   "name": "python",
   "nbconvert_exporter": "python",
   "pygments_lexer": "ipython3",
   "version": "3.11.5"
  }
 },
 "nbformat": 4,
 "nbformat_minor": 5
}
