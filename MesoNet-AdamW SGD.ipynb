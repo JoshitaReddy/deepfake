{
 "cells": [
  {
   "cell_type": "code",
   "execution_count": 1,
   "id": "25f751d6",
   "metadata": {},
   "outputs": [
    {
     "name": "stdout",
     "output_type": "stream",
     "text": [
      "WARNING:tensorflow:From C:\\Users\\joshi\\anaconda3\\Lib\\site-packages\\keras\\src\\losses.py:2976: The name tf.losses.sparse_softmax_cross_entropy is deprecated. Please use tf.compat.v1.losses.sparse_softmax_cross_entropy instead.\n",
      "\n"
     ]
    }
   ],
   "source": [
    "import tensorflow as tf\n",
    "from keras.preprocessing.image import ImageDataGenerator\n",
    "import numpy as np\n",
    "from keras.preprocessing import image\n",
    "import cv2\n",
    "import math\n",
    "import matplotlib.pyplot as plt"
   ]
  },
  {
   "cell_type": "code",
   "execution_count": 3,
   "id": "8c24b11a",
   "metadata": {},
   "outputs": [],
   "source": [
    "labels = ['Fake','Real']"
   ]
  },
  {
   "cell_type": "code",
   "execution_count": 2,
   "id": "056f3f9c",
   "metadata": {},
   "outputs": [
    {
     "name": "stdout",
     "output_type": "stream",
     "text": [
      "Found 12235 images belonging to 2 classes.\n"
     ]
    }
   ],
   "source": [
    "train_datagen = ImageDataGenerator(rescale = 1./255,\n",
    "                                   shear_range = 0.2,\n",
    "                                   zoom_range = 0.2,\n",
    "                                   horizontal_flip = True)\n",
    "training_set = train_datagen.flow_from_directory(\"C:/Users/joshi/OneDrive/Desktop/FaceForensics++/ImagesFinal/train\",\n",
    "                                                 target_size = (192, 192),\n",
    "                                                 batch_size = 32,\n",
    "                                                 class_mode = 'binary')"
   ]
  },
  {
   "cell_type": "code",
   "execution_count": 3,
   "id": "ab9293f6",
   "metadata": {},
   "outputs": [
    {
     "name": "stdout",
     "output_type": "stream",
     "text": [
      "Found 2624 images belonging to 2 classes.\n"
     ]
    }
   ],
   "source": [
    "test_datagen=ImageDataGenerator(rescale=1./255)\n",
    "test_set = test_datagen.flow_from_directory('C:/Users/joshi/OneDrive/Desktop/FaceForensics++/ImagesFinal/test',\n",
    "                                            target_size = (192, 192),\n",
    "                                            batch_size = 32,\n",
    "                                            class_mode = 'binary')"
   ]
  },
  {
   "cell_type": "code",
   "execution_count": 4,
   "id": "3482bd84",
   "metadata": {},
   "outputs": [
    {
     "name": "stdout",
     "output_type": "stream",
     "text": [
      "Found 2621 images belonging to 2 classes.\n"
     ]
    }
   ],
   "source": [
    "val_datagen=ImageDataGenerator(rescale=1./255)\n",
    "val_set = val_datagen.flow_from_directory('C:/Users/joshi/OneDrive/Desktop/FaceForensics++/ImagesFinal/val',\n",
    "                                            target_size = (192, 192),\n",
    "                                            batch_size = 32,\n",
    "                                            class_mode = 'binary')"
   ]
  },
  {
   "cell_type": "code",
   "execution_count": 15,
   "id": "33c518b6",
   "metadata": {},
   "outputs": [
    {
     "name": "stdout",
     "output_type": "stream",
     "text": [
      "WARNING:tensorflow:From C:\\Users\\joshi\\anaconda3\\Lib\\site-packages\\keras\\src\\backend.py:1398: The name tf.executing_eagerly_outside_functions is deprecated. Please use tf.compat.v1.executing_eagerly_outside_functions instead.\n",
      "\n",
      "WARNING:tensorflow:From C:\\Users\\joshi\\anaconda3\\Lib\\site-packages\\keras\\src\\layers\\normalization\\batch_normalization.py:979: The name tf.nn.fused_batch_norm is deprecated. Please use tf.compat.v1.nn.fused_batch_norm instead.\n",
      "\n"
     ]
    }
   ],
   "source": [
    "from tensorflow.keras.layers import Input, Dense, Flatten, Conv2D, MaxPooling2D, BatchNormalization, Dropout, Reshape, Concatenate, LeakyReLU\n",
    "from tensorflow.keras.optimizers import Adam\n",
    "from tensorflow.keras.models import Model \n",
    "x = Input(shape = (228, 228, 3))\n",
    "x1 = Conv2D(16, (3, 3), dilation_rate = 1, strides = 1, padding='same', activation = 'relu')(x)\n",
    "x1 = Conv2D(4, (1, 1), padding='same', activation = 'relu')(x1)\n",
    "x1 = BatchNormalization()(x1)\n",
    "x1 = MaxPooling2D(pool_size=(8, 8), padding='same')(x1)\n",
    "y = Flatten()(x1)\n",
    "y = Dropout(0.5)(y)\n",
    "y = Dense(1, activation = 'sigmoid')(y)\n",
    "cnn = Model(inputs = x, outputs = y)"
   ]
  },
  {
   "cell_type": "code",
   "execution_count": 16,
   "id": "be6a4746",
   "metadata": {},
   "outputs": [
    {
     "name": "stdout",
     "output_type": "stream",
     "text": [
      "WARNING:tensorflow:From C:\\Users\\joshi\\anaconda3\\Lib\\site-packages\\keras\\src\\optimizers\\__init__.py:309: The name tf.train.Optimizer is deprecated. Please use tf.compat.v1.train.Optimizer instead.\n",
      "\n"
     ]
    }
   ],
   "source": [
    "cnn.compile(optimizer='adam', loss='binary_crossentropy', metrics=['accuracy'])"
   ]
  },
  {
   "cell_type": "code",
   "execution_count": 17,
   "id": "acf57921",
   "metadata": {
    "scrolled": true
   },
   "outputs": [
    {
     "name": "stdout",
     "output_type": "stream",
     "text": [
      "Epoch 1/25\n",
      "WARNING:tensorflow:From C:\\Users\\joshi\\anaconda3\\Lib\\site-packages\\keras\\src\\utils\\tf_utils.py:492: The name tf.ragged.RaggedTensorValue is deprecated. Please use tf.compat.v1.ragged.RaggedTensorValue instead.\n",
      "\n",
      "WARNING:tensorflow:From C:\\Users\\joshi\\anaconda3\\Lib\\site-packages\\keras\\src\\engine\\base_layer_utils.py:384: The name tf.executing_eagerly_outside_functions is deprecated. Please use tf.compat.v1.executing_eagerly_outside_functions instead.\n",
      "\n",
      "50/50 [==============================] - 121s 2s/step - loss: 0.7228 - accuracy: 0.5163 - val_loss: 0.6905 - val_accuracy: 0.5423\n",
      "Epoch 2/25\n",
      "50/50 [==============================] - 28s 552ms/step - loss: 0.6953 - accuracy: 0.5678 - val_loss: 0.6926 - val_accuracy: 0.5025\n",
      "Epoch 3/25\n",
      "50/50 [==============================] - 32s 633ms/step - loss: 0.6758 - accuracy: 0.5709 - val_loss: 0.6902 - val_accuracy: 0.5274\n",
      "Epoch 4/25\n",
      "50/50 [==============================] - 26s 522ms/step - loss: 0.6629 - accuracy: 0.5979 - val_loss: 0.6861 - val_accuracy: 0.6070\n",
      "Epoch 5/25\n",
      "50/50 [==============================] - 25s 506ms/step - loss: 0.6486 - accuracy: 0.6092 - val_loss: 0.6817 - val_accuracy: 0.6119\n",
      "Epoch 6/25\n",
      "50/50 [==============================] - 24s 489ms/step - loss: 0.6388 - accuracy: 0.6274 - val_loss: 0.6755 - val_accuracy: 0.6318\n",
      "Epoch 7/25\n",
      "50/50 [==============================] - 24s 487ms/step - loss: 0.6329 - accuracy: 0.6418 - val_loss: 0.6647 - val_accuracy: 0.6517\n",
      "Epoch 8/25\n",
      "50/50 [==============================] - 24s 479ms/step - loss: 0.6197 - accuracy: 0.6361 - val_loss: 0.6576 - val_accuracy: 0.6468\n",
      "Epoch 9/25\n",
      "50/50 [==============================] - 24s 489ms/step - loss: 0.6231 - accuracy: 0.6380 - val_loss: 0.6564 - val_accuracy: 0.6667\n",
      "Epoch 10/25\n",
      "50/50 [==============================] - 24s 484ms/step - loss: 0.6094 - accuracy: 0.6625 - val_loss: 0.6424 - val_accuracy: 0.6318\n",
      "Epoch 11/25\n",
      "50/50 [==============================] - 24s 478ms/step - loss: 0.6003 - accuracy: 0.6738 - val_loss: 0.6271 - val_accuracy: 0.7065\n",
      "Epoch 12/25\n",
      "50/50 [==============================] - 24s 477ms/step - loss: 0.5963 - accuracy: 0.6662 - val_loss: 0.5969 - val_accuracy: 0.6816\n",
      "Epoch 13/25\n",
      "50/50 [==============================] - 24s 480ms/step - loss: 0.5799 - accuracy: 0.6731 - val_loss: 0.5971 - val_accuracy: 0.6866\n",
      "Epoch 14/25\n",
      "50/50 [==============================] - 24s 480ms/step - loss: 0.5900 - accuracy: 0.6876 - val_loss: 0.5942 - val_accuracy: 0.7065\n",
      "Epoch 15/25\n",
      "50/50 [==============================] - 25s 502ms/step - loss: 0.5628 - accuracy: 0.6863 - val_loss: 0.5776 - val_accuracy: 0.7065\n",
      "Epoch 16/25\n",
      "50/50 [==============================] - 25s 491ms/step - loss: 0.5635 - accuracy: 0.6882 - val_loss: 0.5713 - val_accuracy: 0.6816\n",
      "Epoch 17/25\n",
      "50/50 [==============================] - 25s 492ms/step - loss: 0.5524 - accuracy: 0.7089 - val_loss: 0.5398 - val_accuracy: 0.7413\n",
      "Epoch 18/25\n",
      "50/50 [==============================] - 24s 486ms/step - loss: 0.5500 - accuracy: 0.6951 - val_loss: 0.5248 - val_accuracy: 0.7313\n",
      "Epoch 19/25\n",
      "50/50 [==============================] - 24s 488ms/step - loss: 0.5581 - accuracy: 0.6995 - val_loss: 0.5837 - val_accuracy: 0.6816\n",
      "Epoch 20/25\n",
      "50/50 [==============================] - 24s 479ms/step - loss: 0.5334 - accuracy: 0.7127 - val_loss: 0.5468 - val_accuracy: 0.6965\n",
      "Epoch 21/25\n",
      "50/50 [==============================] - 24s 486ms/step - loss: 0.5413 - accuracy: 0.7139 - val_loss: 0.5360 - val_accuracy: 0.7413\n",
      "Epoch 22/25\n",
      "50/50 [==============================] - 27s 532ms/step - loss: 0.5309 - accuracy: 0.7346 - val_loss: 0.5165 - val_accuracy: 0.7164\n",
      "Epoch 23/25\n",
      "50/50 [==============================] - 25s 489ms/step - loss: 0.5090 - accuracy: 0.7340 - val_loss: 0.5056 - val_accuracy: 0.7363\n",
      "Epoch 24/25\n",
      "50/50 [==============================] - 25s 492ms/step - loss: 0.5189 - accuracy: 0.7252 - val_loss: 0.5379 - val_accuracy: 0.7363\n",
      "Epoch 25/25\n",
      "50/50 [==============================] - 24s 486ms/step - loss: 0.5091 - accuracy: 0.7321 - val_loss: 0.5011 - val_accuracy: 0.7612\n"
     ]
    },
    {
     "data": {
      "text/plain": [
       "<keras.src.callbacks.History at 0x27cae4a3650>"
      ]
     },
     "execution_count": 17,
     "metadata": {},
     "output_type": "execute_result"
    }
   ],
   "source": [
    "cnn.fit(x=training_set,validation_data=test_set,epochs=25)"
   ]
  },
  {
   "cell_type": "code",
   "execution_count": 7,
   "id": "1896760b",
   "metadata": {},
   "outputs": [
    {
     "name": "stdout",
     "output_type": "stream",
     "text": [
      "WARNING:tensorflow:From C:\\Users\\joshi\\anaconda3\\Lib\\site-packages\\keras\\src\\backend.py:1398: The name tf.executing_eagerly_outside_functions is deprecated. Please use tf.compat.v1.executing_eagerly_outside_functions instead.\n",
      "\n",
      "WARNING:tensorflow:From C:\\Users\\joshi\\anaconda3\\Lib\\site-packages\\keras\\src\\layers\\normalization\\batch_normalization.py:979: The name tf.nn.fused_batch_norm is deprecated. Please use tf.compat.v1.nn.fused_batch_norm instead.\n",
      "\n"
     ]
    }
   ],
   "source": [
    "#AdamW\n",
    "from tensorflow.keras.layers import Input, Dense, Flatten, Conv2D, MaxPooling2D, BatchNormalization, Dropout, Reshape, Concatenate, LeakyReLU\n",
    "from tensorflow.keras.optimizers import Adam\n",
    "from tensorflow.keras.models import Model \n",
    "x = Input(shape = (228, 228, 3))\n",
    "x1 = Conv2D(8, (3, 3), padding='same', activation = 'relu')(x)\n",
    "x1 = BatchNormalization()(x1)\n",
    "x1 = MaxPooling2D(pool_size=(2, 2), padding='same')(x1)\n",
    "\n",
    "x2 = Conv2D(8, (5, 5), padding='same', activation = 'relu')(x1)\n",
    "x2 = BatchNormalization()(x2)\n",
    "x2 = MaxPooling2D(pool_size=(2, 2), padding='same')(x2)\n",
    "\n",
    "x3 = Conv2D(16, (5, 5), padding='same', activation = 'relu')(x2)\n",
    "x3 = BatchNormalization()(x3)\n",
    "x3 = MaxPooling2D(pool_size=(2, 2), padding='same')(x3)\n",
    "\n",
    "x4 = Conv2D(16, (5, 5), padding='same', activation = 'relu')(x3)\n",
    "x4 = BatchNormalization()(x4)\n",
    "x4 = MaxPooling2D(pool_size=(4, 4), padding='same')(x4)\n",
    "\n",
    "y = Flatten()(x4)\n",
    "y = Dropout(0.5)(y)\n",
    "y = Dense(16)(y)\n",
    "y = LeakyReLU(alpha=0.1)(y)\n",
    "y = Dropout(0.5)(y)\n",
    "y = Dense(1, activation = 'sigmoid')(y)\n",
    "cnn = Model(inputs = x, outputs = y)"
   ]
  },
  {
   "cell_type": "code",
   "execution_count": 8,
   "id": "de08a3b4",
   "metadata": {},
   "outputs": [],
   "source": [
    "cnn.compile(optimizer=tf.keras.optimizers.AdamW(), loss='binary_crossentropy', metrics=['accuracy'])"
   ]
  },
  {
   "cell_type": "code",
   "execution_count": 9,
   "id": "f1349e01",
   "metadata": {
    "scrolled": true
   },
   "outputs": [
    {
     "name": "stdout",
     "output_type": "stream",
     "text": [
      "Epoch 1/25\n",
      "WARNING:tensorflow:From C:\\Users\\joshi\\anaconda3\\Lib\\site-packages\\keras\\src\\utils\\tf_utils.py:492: The name tf.ragged.RaggedTensorValue is deprecated. Please use tf.compat.v1.ragged.RaggedTensorValue instead.\n",
      "\n",
      "WARNING:tensorflow:From C:\\Users\\joshi\\anaconda3\\Lib\\site-packages\\keras\\src\\engine\\base_layer_utils.py:384: The name tf.executing_eagerly_outside_functions is deprecated. Please use tf.compat.v1.executing_eagerly_outside_functions instead.\n",
      "\n",
      "50/50 [==============================] - 33s 591ms/step - loss: 0.9450 - accuracy: 0.5038 - val_loss: 0.6964 - val_accuracy: 0.5423\n",
      "Epoch 2/25\n",
      "50/50 [==============================] - 33s 664ms/step - loss: 0.7395 - accuracy: 0.5358 - val_loss: 0.7632 - val_accuracy: 0.5025\n",
      "Epoch 3/25\n",
      "50/50 [==============================] - 38s 759ms/step - loss: 0.7261 - accuracy: 0.5464 - val_loss: 0.8750 - val_accuracy: 0.5025\n",
      "Epoch 4/25\n",
      "50/50 [==============================] - 36s 717ms/step - loss: 0.7212 - accuracy: 0.5696 - val_loss: 0.7549 - val_accuracy: 0.5025\n",
      "Epoch 5/25\n",
      "50/50 [==============================] - 30s 597ms/step - loss: 0.6827 - accuracy: 0.5960 - val_loss: 0.8235 - val_accuracy: 0.5423\n",
      "Epoch 6/25\n",
      "50/50 [==============================] - 30s 596ms/step - loss: 0.6742 - accuracy: 0.6085 - val_loss: 0.6574 - val_accuracy: 0.5672\n",
      "Epoch 7/25\n",
      "50/50 [==============================] - 30s 597ms/step - loss: 0.6603 - accuracy: 0.6060 - val_loss: 0.6632 - val_accuracy: 0.5473\n",
      "Epoch 8/25\n",
      "50/50 [==============================] - 30s 604ms/step - loss: 0.6596 - accuracy: 0.6129 - val_loss: 0.6444 - val_accuracy: 0.5572\n",
      "Epoch 9/25\n",
      "50/50 [==============================] - 30s 602ms/step - loss: 0.6293 - accuracy: 0.6324 - val_loss: 0.6558 - val_accuracy: 0.5920\n",
      "Epoch 10/25\n",
      "50/50 [==============================] - 30s 592ms/step - loss: 0.6448 - accuracy: 0.6349 - val_loss: 0.6126 - val_accuracy: 0.5920\n",
      "Epoch 11/25\n",
      "50/50 [==============================] - 30s 591ms/step - loss: 0.6007 - accuracy: 0.6713 - val_loss: 0.5791 - val_accuracy: 0.6816\n",
      "Epoch 12/25\n",
      "50/50 [==============================] - 29s 587ms/step - loss: 0.6155 - accuracy: 0.6593 - val_loss: 0.5770 - val_accuracy: 0.6866\n",
      "Epoch 13/25\n",
      "50/50 [==============================] - 30s 589ms/step - loss: 0.6020 - accuracy: 0.6744 - val_loss: 0.6246 - val_accuracy: 0.6567\n",
      "Epoch 14/25\n",
      "50/50 [==============================] - 35s 693ms/step - loss: 0.5848 - accuracy: 0.6989 - val_loss: 0.6734 - val_accuracy: 0.6269\n",
      "Epoch 15/25\n",
      "50/50 [==============================] - 34s 678ms/step - loss: 0.5788 - accuracy: 0.7020 - val_loss: 0.5333 - val_accuracy: 0.7811\n",
      "Epoch 16/25\n",
      "50/50 [==============================] - 29s 579ms/step - loss: 0.5671 - accuracy: 0.7127 - val_loss: 0.5183 - val_accuracy: 0.7711\n",
      "Epoch 17/25\n",
      "50/50 [==============================] - 29s 572ms/step - loss: 0.5498 - accuracy: 0.7089 - val_loss: 0.4894 - val_accuracy: 0.7214\n",
      "Epoch 18/25\n",
      "50/50 [==============================] - 29s 582ms/step - loss: 0.5236 - accuracy: 0.7221 - val_loss: 0.4452 - val_accuracy: 0.7811\n",
      "Epoch 19/25\n",
      "50/50 [==============================] - 33s 651ms/step - loss: 0.5238 - accuracy: 0.7384 - val_loss: 0.4384 - val_accuracy: 0.8010\n",
      "Epoch 20/25\n",
      "50/50 [==============================] - 30s 598ms/step - loss: 0.5090 - accuracy: 0.7723 - val_loss: 0.4787 - val_accuracy: 0.7463\n",
      "Epoch 21/25\n",
      "50/50 [==============================] - 29s 586ms/step - loss: 0.5081 - accuracy: 0.7509 - val_loss: 0.5783 - val_accuracy: 0.6517\n",
      "Epoch 22/25\n",
      "50/50 [==============================] - 29s 588ms/step - loss: 0.4794 - accuracy: 0.7748 - val_loss: 0.4341 - val_accuracy: 0.7960\n",
      "Epoch 23/25\n",
      "50/50 [==============================] - 30s 603ms/step - loss: 0.4772 - accuracy: 0.7729 - val_loss: 0.4628 - val_accuracy: 0.7711\n",
      "Epoch 24/25\n",
      "50/50 [==============================] - 29s 586ms/step - loss: 0.4615 - accuracy: 0.7691 - val_loss: 0.4148 - val_accuracy: 0.8109\n",
      "Epoch 25/25\n",
      "50/50 [==============================] - 29s 587ms/step - loss: 0.4385 - accuracy: 0.7842 - val_loss: 0.4648 - val_accuracy: 0.7662\n"
     ]
    },
    {
     "data": {
      "text/plain": [
       "<keras.src.callbacks.History at 0x1f75405a210>"
      ]
     },
     "execution_count": 9,
     "metadata": {},
     "output_type": "execute_result"
    }
   ],
   "source": [
    "cnn.fit(x=training_set,validation_data=test_set,epochs=25)"
   ]
  },
  {
   "cell_type": "code",
   "execution_count": 8,
   "id": "05da819c",
   "metadata": {},
   "outputs": [
    {
     "name": "stdout",
     "output_type": "stream",
     "text": [
      "WARNING:tensorflow:From C:\\Users\\joshi\\anaconda3\\Lib\\site-packages\\keras\\src\\optimizers\\__init__.py:309: The name tf.train.Optimizer is deprecated. Please use tf.compat.v1.train.Optimizer instead.\n",
      "\n"
     ]
    }
   ],
   "source": [
    "#SGD Optimiser\n",
    "cnn.compile(optimizer='sgd', loss='binary_crossentropy', metrics=['accuracy'])"
   ]
  },
  {
   "cell_type": "code",
   "execution_count": 10,
   "id": "e2eca019",
   "metadata": {},
   "outputs": [
    {
     "name": "stdout",
     "output_type": "stream",
     "text": [
      "Epoch 1/100\n",
      "50/50 [==============================] - 29s 589ms/step - loss: 0.7826 - accuracy: 0.5263 - val_loss: 0.7870 - val_accuracy: 0.4975\n",
      "Epoch 2/100\n",
      "50/50 [==============================] - 30s 596ms/step - loss: 0.7483 - accuracy: 0.5364 - val_loss: 0.8333 - val_accuracy: 0.4975\n",
      "Epoch 3/100\n",
      "50/50 [==============================] - 30s 599ms/step - loss: 0.7459 - accuracy: 0.5345 - val_loss: 0.8450 - val_accuracy: 0.4975\n",
      "Epoch 4/100\n",
      "50/50 [==============================] - 30s 608ms/step - loss: 0.7237 - accuracy: 0.5370 - val_loss: 0.8229 - val_accuracy: 0.4925\n",
      "Epoch 5/100\n",
      "50/50 [==============================] - 31s 614ms/step - loss: 0.7118 - accuracy: 0.5332 - val_loss: 0.8295 - val_accuracy: 0.4975\n",
      "Epoch 6/100\n",
      "50/50 [==============================] - 31s 612ms/step - loss: 0.7123 - accuracy: 0.5295 - val_loss: 0.8093 - val_accuracy: 0.5025\n",
      "Epoch 7/100\n",
      "50/50 [==============================] - 31s 612ms/step - loss: 0.6951 - accuracy: 0.5508 - val_loss: 0.7411 - val_accuracy: 0.4975\n",
      "Epoch 8/100\n",
      "50/50 [==============================] - 31s 625ms/step - loss: 0.7064 - accuracy: 0.5433 - val_loss: 0.7130 - val_accuracy: 0.5373\n",
      "Epoch 9/100\n",
      "50/50 [==============================] - 32s 639ms/step - loss: 0.7018 - accuracy: 0.5364 - val_loss: 0.6915 - val_accuracy: 0.5323\n",
      "Epoch 10/100\n",
      "50/50 [==============================] - 42s 832ms/step - loss: 0.6948 - accuracy: 0.5596 - val_loss: 0.6804 - val_accuracy: 0.5572\n",
      "Epoch 11/100\n",
      "50/50 [==============================] - 34s 676ms/step - loss: 0.6932 - accuracy: 0.5533 - val_loss: 0.6658 - val_accuracy: 0.6368\n",
      "Epoch 12/100\n",
      "50/50 [==============================] - 31s 622ms/step - loss: 0.6938 - accuracy: 0.5652 - val_loss: 0.6616 - val_accuracy: 0.6468\n",
      "Epoch 13/100\n",
      "50/50 [==============================] - 31s 619ms/step - loss: 0.6827 - accuracy: 0.5822 - val_loss: 0.6621 - val_accuracy: 0.6169\n",
      "Epoch 14/100\n",
      "50/50 [==============================] - 30s 602ms/step - loss: 0.6792 - accuracy: 0.5696 - val_loss: 0.6640 - val_accuracy: 0.6567\n",
      "Epoch 15/100\n",
      "50/50 [==============================] - 30s 605ms/step - loss: 0.6777 - accuracy: 0.5747 - val_loss: 0.6577 - val_accuracy: 0.6219\n",
      "Epoch 16/100\n",
      "50/50 [==============================] - 30s 604ms/step - loss: 0.6800 - accuracy: 0.5778 - val_loss: 0.6627 - val_accuracy: 0.6219\n",
      "Epoch 17/100\n",
      "50/50 [==============================] - 31s 621ms/step - loss: 0.6686 - accuracy: 0.5954 - val_loss: 0.6562 - val_accuracy: 0.6269\n",
      "Epoch 18/100\n",
      "50/50 [==============================] - 30s 600ms/step - loss: 0.6760 - accuracy: 0.5690 - val_loss: 0.6566 - val_accuracy: 0.6119\n",
      "Epoch 19/100\n",
      "50/50 [==============================] - 30s 601ms/step - loss: 0.6716 - accuracy: 0.5903 - val_loss: 0.6512 - val_accuracy: 0.6567\n",
      "Epoch 20/100\n",
      "50/50 [==============================] - 30s 594ms/step - loss: 0.6650 - accuracy: 0.5859 - val_loss: 0.6446 - val_accuracy: 0.6617\n",
      "Epoch 21/100\n",
      "50/50 [==============================] - 30s 594ms/step - loss: 0.6599 - accuracy: 0.6029 - val_loss: 0.6385 - val_accuracy: 0.6517\n",
      "Epoch 22/100\n",
      "50/50 [==============================] - 30s 599ms/step - loss: 0.6468 - accuracy: 0.6179 - val_loss: 0.6453 - val_accuracy: 0.6020\n",
      "Epoch 23/100\n",
      "50/50 [==============================] - 30s 598ms/step - loss: 0.6574 - accuracy: 0.5903 - val_loss: 0.6403 - val_accuracy: 0.6169\n",
      "Epoch 24/100\n",
      "50/50 [==============================] - 30s 598ms/step - loss: 0.6403 - accuracy: 0.6098 - val_loss: 0.6407 - val_accuracy: 0.6517\n",
      "Epoch 25/100\n",
      "50/50 [==============================] - 30s 598ms/step - loss: 0.6442 - accuracy: 0.5960 - val_loss: 0.6343 - val_accuracy: 0.6418\n",
      "Epoch 26/100\n",
      "50/50 [==============================] - 30s 598ms/step - loss: 0.6454 - accuracy: 0.6129 - val_loss: 0.6497 - val_accuracy: 0.5920\n",
      "Epoch 27/100\n",
      "50/50 [==============================] - 30s 593ms/step - loss: 0.6437 - accuracy: 0.6173 - val_loss: 0.6292 - val_accuracy: 0.6418\n",
      "Epoch 28/100\n",
      "50/50 [==============================] - 30s 600ms/step - loss: 0.6423 - accuracy: 0.6274 - val_loss: 0.6345 - val_accuracy: 0.6169\n",
      "Epoch 29/100\n",
      "50/50 [==============================] - 30s 602ms/step - loss: 0.6302 - accuracy: 0.6430 - val_loss: 0.6282 - val_accuracy: 0.6318\n",
      "Epoch 30/100\n",
      "50/50 [==============================] - 30s 598ms/step - loss: 0.6338 - accuracy: 0.6286 - val_loss: 0.6184 - val_accuracy: 0.6219\n",
      "Epoch 31/100\n",
      "50/50 [==============================] - 30s 608ms/step - loss: 0.6251 - accuracy: 0.6412 - val_loss: 0.6147 - val_accuracy: 0.6567\n",
      "Epoch 32/100\n",
      "50/50 [==============================] - 30s 602ms/step - loss: 0.6240 - accuracy: 0.6430 - val_loss: 0.6188 - val_accuracy: 0.6318\n",
      "Epoch 33/100\n",
      "50/50 [==============================] - 30s 593ms/step - loss: 0.6188 - accuracy: 0.6481 - val_loss: 0.6088 - val_accuracy: 0.6716\n",
      "Epoch 34/100\n",
      "50/50 [==============================] - 30s 603ms/step - loss: 0.6079 - accuracy: 0.6625 - val_loss: 0.5918 - val_accuracy: 0.6716\n",
      "Epoch 35/100\n",
      "50/50 [==============================] - 30s 597ms/step - loss: 0.6007 - accuracy: 0.6719 - val_loss: 0.6129 - val_accuracy: 0.6468\n",
      "Epoch 36/100\n",
      "50/50 [==============================] - 30s 596ms/step - loss: 0.6197 - accuracy: 0.6386 - val_loss: 0.6007 - val_accuracy: 0.6269\n",
      "Epoch 37/100\n",
      "50/50 [==============================] - 30s 595ms/step - loss: 0.6147 - accuracy: 0.6625 - val_loss: 0.6035 - val_accuracy: 0.6368\n",
      "Epoch 38/100\n",
      "50/50 [==============================] - 30s 600ms/step - loss: 0.5821 - accuracy: 0.6895 - val_loss: 0.5954 - val_accuracy: 0.6418\n",
      "Epoch 39/100\n",
      "50/50 [==============================] - 31s 609ms/step - loss: 0.6011 - accuracy: 0.6650 - val_loss: 0.5891 - val_accuracy: 0.6468\n",
      "Epoch 40/100\n",
      "50/50 [==============================] - 30s 603ms/step - loss: 0.5864 - accuracy: 0.6750 - val_loss: 0.5996 - val_accuracy: 0.6070\n",
      "Epoch 41/100\n",
      "50/50 [==============================] - 30s 608ms/step - loss: 0.5803 - accuracy: 0.6882 - val_loss: 0.6050 - val_accuracy: 0.6716\n",
      "Epoch 42/100\n",
      "50/50 [==============================] - 32s 638ms/step - loss: 0.5791 - accuracy: 0.6882 - val_loss: 0.5923 - val_accuracy: 0.6517\n",
      "Epoch 43/100\n",
      "50/50 [==============================] - 30s 607ms/step - loss: 0.5690 - accuracy: 0.7026 - val_loss: 0.6066 - val_accuracy: 0.6667\n",
      "Epoch 44/100\n",
      "50/50 [==============================] - 32s 633ms/step - loss: 0.5734 - accuracy: 0.6995 - val_loss: 0.5931 - val_accuracy: 0.6617\n",
      "Epoch 45/100\n",
      "50/50 [==============================] - 31s 611ms/step - loss: 0.5596 - accuracy: 0.6932 - val_loss: 0.5999 - val_accuracy: 0.6169\n",
      "Epoch 46/100\n",
      "50/50 [==============================] - 31s 616ms/step - loss: 0.5739 - accuracy: 0.6888 - val_loss: 0.5989 - val_accuracy: 0.6169\n",
      "Epoch 47/100\n",
      "50/50 [==============================] - 31s 611ms/step - loss: 0.5439 - accuracy: 0.7302 - val_loss: 0.5592 - val_accuracy: 0.6915\n",
      "Epoch 48/100\n",
      "50/50 [==============================] - 31s 616ms/step - loss: 0.5575 - accuracy: 0.6945 - val_loss: 0.5723 - val_accuracy: 0.6816\n",
      "Epoch 49/100\n",
      "50/50 [==============================] - 31s 615ms/step - loss: 0.5656 - accuracy: 0.7133 - val_loss: 0.5896 - val_accuracy: 0.6468\n",
      "Epoch 50/100\n",
      "50/50 [==============================] - 31s 617ms/step - loss: 0.5546 - accuracy: 0.7008 - val_loss: 0.5848 - val_accuracy: 0.7114\n",
      "Epoch 51/100\n",
      "50/50 [==============================] - 31s 613ms/step - loss: 0.5414 - accuracy: 0.7321 - val_loss: 0.6179 - val_accuracy: 0.6418\n",
      "Epoch 52/100\n",
      "50/50 [==============================] - 31s 616ms/step - loss: 0.5260 - accuracy: 0.7265 - val_loss: 0.5540 - val_accuracy: 0.6766\n",
      "Epoch 53/100\n",
      "50/50 [==============================] - 31s 615ms/step - loss: 0.5302 - accuracy: 0.7340 - val_loss: 0.6979 - val_accuracy: 0.5871\n",
      "Epoch 54/100\n",
      "50/50 [==============================] - 31s 616ms/step - loss: 0.5396 - accuracy: 0.7346 - val_loss: 0.6424 - val_accuracy: 0.6169\n",
      "Epoch 55/100\n",
      "50/50 [==============================] - 31s 615ms/step - loss: 0.5270 - accuracy: 0.7321 - val_loss: 0.5344 - val_accuracy: 0.7562\n",
      "Epoch 56/100\n",
      "50/50 [==============================] - 31s 620ms/step - loss: 0.5147 - accuracy: 0.7472 - val_loss: 0.5423 - val_accuracy: 0.7114\n",
      "Epoch 57/100\n",
      "50/50 [==============================] - 31s 613ms/step - loss: 0.5024 - accuracy: 0.7585 - val_loss: 0.5180 - val_accuracy: 0.7363\n",
      "Epoch 58/100\n",
      "50/50 [==============================] - 31s 613ms/step - loss: 0.5076 - accuracy: 0.7459 - val_loss: 0.6522 - val_accuracy: 0.7015\n",
      "Epoch 59/100\n",
      "50/50 [==============================] - 31s 617ms/step - loss: 0.5062 - accuracy: 0.7516 - val_loss: 0.9182 - val_accuracy: 0.6169\n",
      "Epoch 60/100\n",
      "50/50 [==============================] - 31s 618ms/step - loss: 0.4901 - accuracy: 0.7704 - val_loss: 0.5527 - val_accuracy: 0.6716\n",
      "Epoch 61/100\n",
      "50/50 [==============================] - 31s 615ms/step - loss: 0.4756 - accuracy: 0.7610 - val_loss: 0.5027 - val_accuracy: 0.7413\n",
      "Epoch 62/100\n",
      "50/50 [==============================] - 32s 644ms/step - loss: 0.4696 - accuracy: 0.7629 - val_loss: 0.7616 - val_accuracy: 0.6269\n",
      "Epoch 63/100\n",
      "50/50 [==============================] - 30s 599ms/step - loss: 0.4687 - accuracy: 0.7779 - val_loss: 0.6883 - val_accuracy: 0.7164\n",
      "Epoch 64/100\n",
      "50/50 [==============================] - 30s 599ms/step - loss: 0.4818 - accuracy: 0.7635 - val_loss: 0.8400 - val_accuracy: 0.6766\n",
      "Epoch 65/100\n",
      "50/50 [==============================] - 30s 605ms/step - loss: 0.4639 - accuracy: 0.7804 - val_loss: 0.4494 - val_accuracy: 0.7363\n",
      "Epoch 66/100\n",
      "50/50 [==============================] - 30s 593ms/step - loss: 0.4508 - accuracy: 0.7898 - val_loss: 0.5437 - val_accuracy: 0.7015\n",
      "Epoch 67/100\n",
      "50/50 [==============================] - 30s 594ms/step - loss: 0.4651 - accuracy: 0.7748 - val_loss: 0.7579 - val_accuracy: 0.6318\n",
      "Epoch 68/100\n",
      "50/50 [==============================] - 30s 598ms/step - loss: 0.4674 - accuracy: 0.7861 - val_loss: 0.5071 - val_accuracy: 0.7164\n",
      "Epoch 69/100\n",
      "50/50 [==============================] - 30s 596ms/step - loss: 0.4363 - accuracy: 0.7942 - val_loss: 0.4894 - val_accuracy: 0.7313\n",
      "Epoch 70/100\n",
      "50/50 [==============================] - 32s 634ms/step - loss: 0.4135 - accuracy: 0.8049 - val_loss: 0.7659 - val_accuracy: 0.6567\n",
      "Epoch 71/100\n",
      "50/50 [==============================] - 30s 598ms/step - loss: 0.4220 - accuracy: 0.8049 - val_loss: 1.0323 - val_accuracy: 0.5970\n",
      "Epoch 72/100\n",
      "50/50 [==============================] - 30s 599ms/step - loss: 0.4473 - accuracy: 0.7967 - val_loss: 0.6176 - val_accuracy: 0.7015\n",
      "Epoch 73/100\n",
      "50/50 [==============================] - 30s 598ms/step - loss: 0.4139 - accuracy: 0.8093 - val_loss: 0.4454 - val_accuracy: 0.7861\n",
      "Epoch 74/100\n",
      "50/50 [==============================] - 30s 595ms/step - loss: 0.3966 - accuracy: 0.8181 - val_loss: 0.4294 - val_accuracy: 0.7861\n",
      "Epoch 75/100\n",
      "50/50 [==============================] - 30s 597ms/step - loss: 0.3941 - accuracy: 0.8281 - val_loss: 0.4264 - val_accuracy: 0.7761\n",
      "Epoch 76/100\n",
      "50/50 [==============================] - 30s 596ms/step - loss: 0.4068 - accuracy: 0.8212 - val_loss: 0.6076 - val_accuracy: 0.6816\n",
      "Epoch 77/100\n",
      "50/50 [==============================] - 30s 593ms/step - loss: 0.3997 - accuracy: 0.8287 - val_loss: 0.6112 - val_accuracy: 0.6766\n",
      "Epoch 78/100\n",
      "50/50 [==============================] - 30s 592ms/step - loss: 0.3931 - accuracy: 0.8262 - val_loss: 0.3970 - val_accuracy: 0.8259\n",
      "Epoch 79/100\n",
      "50/50 [==============================] - 30s 589ms/step - loss: 0.3746 - accuracy: 0.8331 - val_loss: 0.8066 - val_accuracy: 0.6368\n",
      "Epoch 80/100\n",
      "50/50 [==============================] - 30s 594ms/step - loss: 0.3533 - accuracy: 0.8419 - val_loss: 0.4120 - val_accuracy: 0.8109\n",
      "Epoch 81/100\n",
      "50/50 [==============================] - 30s 595ms/step - loss: 0.3894 - accuracy: 0.8124 - val_loss: 0.3832 - val_accuracy: 0.7960\n",
      "Epoch 82/100\n",
      "50/50 [==============================] - 30s 594ms/step - loss: 0.3802 - accuracy: 0.8369 - val_loss: 0.4186 - val_accuracy: 0.7861\n",
      "Epoch 83/100\n",
      "50/50 [==============================] - 30s 590ms/step - loss: 0.3859 - accuracy: 0.8237 - val_loss: 0.3320 - val_accuracy: 0.8557\n",
      "Epoch 84/100\n",
      "50/50 [==============================] - 30s 589ms/step - loss: 0.3749 - accuracy: 0.8325 - val_loss: 0.8710 - val_accuracy: 0.6468\n",
      "Epoch 85/100\n",
      "50/50 [==============================] - 30s 594ms/step - loss: 0.3661 - accuracy: 0.8407 - val_loss: 0.3730 - val_accuracy: 0.8358\n",
      "Epoch 86/100\n",
      "50/50 [==============================] - 29s 586ms/step - loss: 0.3756 - accuracy: 0.8344 - val_loss: 0.3347 - val_accuracy: 0.8557\n",
      "Epoch 87/100\n",
      "50/50 [==============================] - 29s 585ms/step - loss: 0.3332 - accuracy: 0.8488 - val_loss: 1.0396 - val_accuracy: 0.6368\n",
      "Epoch 88/100\n",
      "50/50 [==============================] - 29s 587ms/step - loss: 0.3506 - accuracy: 0.8545 - val_loss: 0.3720 - val_accuracy: 0.8507\n",
      "Epoch 89/100\n",
      "50/50 [==============================] - 29s 585ms/step - loss: 0.3344 - accuracy: 0.8639 - val_loss: 0.6612 - val_accuracy: 0.7264\n",
      "Epoch 90/100\n",
      "50/50 [==============================] - 29s 585ms/step - loss: 0.3473 - accuracy: 0.8463 - val_loss: 0.3803 - val_accuracy: 0.8308\n",
      "Epoch 91/100\n",
      "50/50 [==============================] - 29s 587ms/step - loss: 0.3445 - accuracy: 0.8519 - val_loss: 0.3063 - val_accuracy: 0.8408\n",
      "Epoch 92/100\n",
      "50/50 [==============================] - 30s 590ms/step - loss: 0.3120 - accuracy: 0.8645 - val_loss: 0.8557 - val_accuracy: 0.6667\n",
      "Epoch 93/100\n",
      "50/50 [==============================] - 29s 587ms/step - loss: 0.3333 - accuracy: 0.8545 - val_loss: 0.8065 - val_accuracy: 0.6468\n",
      "Epoch 94/100\n",
      "50/50 [==============================] - 30s 589ms/step - loss: 0.3326 - accuracy: 0.8601 - val_loss: 0.4824 - val_accuracy: 0.7512\n",
      "Epoch 95/100\n",
      "50/50 [==============================] - 29s 581ms/step - loss: 0.3290 - accuracy: 0.8538 - val_loss: 0.4220 - val_accuracy: 0.8308\n",
      "Epoch 96/100\n",
      "50/50 [==============================] - 29s 586ms/step - loss: 0.3165 - accuracy: 0.8714 - val_loss: 0.3682 - val_accuracy: 0.8358\n",
      "Epoch 97/100\n",
      "50/50 [==============================] - 29s 586ms/step - loss: 0.3370 - accuracy: 0.8563 - val_loss: 0.4770 - val_accuracy: 0.7960\n",
      "Epoch 98/100\n",
      "50/50 [==============================] - 29s 582ms/step - loss: 0.3174 - accuracy: 0.8620 - val_loss: 0.4983 - val_accuracy: 0.7910\n",
      "Epoch 99/100\n",
      "50/50 [==============================] - 29s 583ms/step - loss: 0.3093 - accuracy: 0.8689 - val_loss: 0.6368 - val_accuracy: 0.7214\n",
      "Epoch 100/100\n",
      "50/50 [==============================] - 29s 583ms/step - loss: 0.2942 - accuracy: 0.8864 - val_loss: 1.8668 - val_accuracy: 0.5821\n"
     ]
    },
    {
     "data": {
      "text/plain": [
       "<keras.src.callbacks.History at 0x17a299a2d10>"
      ]
     },
     "execution_count": 10,
     "metadata": {},
     "output_type": "execute_result"
    }
   ],
   "source": [
    "cnn.fit(x=training_set,validation_data=test_set,epochs=100)"
   ]
  },
  {
   "cell_type": "code",
   "execution_count": null,
   "id": "b9093a04",
   "metadata": {},
   "outputs": [],
   "source": []
  }
 ],
 "metadata": {
  "kernelspec": {
   "display_name": "Python 3 (ipykernel)",
   "language": "python",
   "name": "python3"
  },
  "language_info": {
   "codemirror_mode": {
    "name": "ipython",
    "version": 3
   },
   "file_extension": ".py",
   "mimetype": "text/x-python",
   "name": "python",
   "nbconvert_exporter": "python",
   "pygments_lexer": "ipython3",
   "version": "3.11.5"
  }
 },
 "nbformat": 4,
 "nbformat_minor": 5
}
