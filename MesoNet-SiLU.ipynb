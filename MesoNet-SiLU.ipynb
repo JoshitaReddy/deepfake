{
 "cells": [
  {
   "cell_type": "code",
   "execution_count": 1,
   "id": "25f751d6",
   "metadata": {},
   "outputs": [
    {
     "name": "stdout",
     "output_type": "stream",
     "text": [
      "WARNING:tensorflow:From C:\\Users\\joshi\\anaconda3\\Lib\\site-packages\\keras\\src\\losses.py:2976: The name tf.losses.sparse_softmax_cross_entropy is deprecated. Please use tf.compat.v1.losses.sparse_softmax_cross_entropy instead.\n",
      "\n"
     ]
    }
   ],
   "source": [
    "import tensorflow as tf\n",
    "from keras.preprocessing.image import ImageDataGenerator\n",
    "import numpy as np\n",
    "from keras.preprocessing import image\n",
    "import cv2\n",
    "import math\n",
    "import matplotlib.pyplot as plt"
   ]
  },
  {
   "cell_type": "code",
   "execution_count": 2,
   "id": "93c2f40a",
   "metadata": {},
   "outputs": [],
   "source": [
    "train_dir = \"C:/Users/joshi/OneDrive/Desktop/FaceForensics++/ImagesFinal/train\"\n",
    "val_dir = \"C:/Users/joshi/OneDrive/Desktop/FaceForensics++/ImagesFinal/val\"\n",
    "test_dir = \"C:/Users/joshi/OneDrive/Desktop/FaceForensics++/ImagesFinal/test\""
   ]
  },
  {
   "cell_type": "code",
   "execution_count": 3,
   "id": "8c24b11a",
   "metadata": {},
   "outputs": [],
   "source": [
    "labels = ['Fake','Real']"
   ]
  },
  {
   "cell_type": "code",
   "execution_count": 4,
   "id": "056f3f9c",
   "metadata": {},
   "outputs": [
    {
     "name": "stdout",
     "output_type": "stream",
     "text": [
      "Found 1594 images belonging to 2 classes.\n"
     ]
    }
   ],
   "source": [
    "train_datagen = ImageDataGenerator(rescale = 1./255,\n",
    "                                   shear_range = 0.2,\n",
    "                                   zoom_range = 0.2,\n",
    "                                   horizontal_flip = True)\n",
    "training_set = train_datagen.flow_from_directory(\"C:/Users/joshi/OneDrive/Desktop/FaceForensics++/ImagesFinal/train\",\n",
    "                                                 target_size = (228, 228),\n",
    "                                                 batch_size = 32,\n",
    "                                                 class_mode = 'binary')"
   ]
  },
  {
   "cell_type": "code",
   "execution_count": 5,
   "id": "ab9293f6",
   "metadata": {},
   "outputs": [
    {
     "name": "stdout",
     "output_type": "stream",
     "text": [
      "Found 201 images belonging to 2 classes.\n"
     ]
    }
   ],
   "source": [
    "test_datagen=ImageDataGenerator(rescale=1./255)\n",
    "test_set = test_datagen.flow_from_directory('C:/Users/joshi/OneDrive/Desktop/FaceForensics++/ImagesFinal/test',\n",
    "                                            target_size = (228, 228),\n",
    "                                            batch_size = 32,\n",
    "                                            class_mode = 'binary')"
   ]
  },
  {
   "cell_type": "code",
   "execution_count": 6,
   "id": "3482bd84",
   "metadata": {},
   "outputs": [
    {
     "name": "stdout",
     "output_type": "stream",
     "text": [
      "Found 198 images belonging to 2 classes.\n"
     ]
    }
   ],
   "source": [
    "val_datagen=ImageDataGenerator(rescale=1./255)\n",
    "val_set = val_datagen.flow_from_directory('C:/Users/joshi/OneDrive/Desktop/FaceForensics++/ImagesFinal/val',\n",
    "                                            target_size = (228, 228),\n",
    "                                            batch_size = 32,\n",
    "                                            class_mode = 'binary')"
   ]
  },
  {
   "cell_type": "code",
   "execution_count": 35,
   "id": "d598dd98",
   "metadata": {},
   "outputs": [],
   "source": [
    "cnn=tf.keras.models.Sequential()\n",
    "cnn.add(tf.keras.layers.Conv2D(filters=16, kernel_size=3, activation='relu', input_shape=[128,128,3]))\n",
    "cnn.add(tf.keras.layers.MaxPool2D(pool_size=2,strides=2))\n",
    "cnn.add(tf.keras.layers.Conv2D(filters=32, kernel_size=3, activation='relu'))\n",
    "cnn.add(tf.keras.layers.MaxPool2D(pool_size=2,strides=2))\n",
    "cnn.add(tf.keras.layers.Conv2D(filters=64, kernel_size=3, activation='relu'))\n",
    "cnn.add(tf.keras.layers.MaxPool2D(pool_size=2,strides=2))\n",
    "cnn.add(tf.keras.layers.Conv2D(filters=128, kernel_size=3, activation='relu'))\n",
    "cnn.add(tf.keras.layers.MaxPool2D(pool_size=2,strides=2))\n",
    "cnn.add(tf.keras.layers.Dropout(0.2))\n",
    "cnn.add(tf.keras.layers.Conv2D(filters=256, kernel_size=3, activation='relu'))\n",
    "cnn.add(tf.keras.layers.MaxPool2D(pool_size=2,strides=2))\n",
    "cnn.add(tf.keras.layers.Flatten())\n",
    "cnn.add(tf.keras.layers.Dense(units=512,activation='relu'))\n",
    "cnn.add(tf.keras.layers.Dropout(0.2))\n",
    "cnn.add(tf.keras.layers.Dense(units=1,activation='sigmoid'))"
   ]
  },
  {
   "cell_type": "code",
   "execution_count": 15,
   "id": "33c518b6",
   "metadata": {},
   "outputs": [
    {
     "name": "stdout",
     "output_type": "stream",
     "text": [
      "WARNING:tensorflow:From C:\\Users\\joshi\\anaconda3\\Lib\\site-packages\\keras\\src\\backend.py:1398: The name tf.executing_eagerly_outside_functions is deprecated. Please use tf.compat.v1.executing_eagerly_outside_functions instead.\n",
      "\n",
      "WARNING:tensorflow:From C:\\Users\\joshi\\anaconda3\\Lib\\site-packages\\keras\\src\\layers\\normalization\\batch_normalization.py:979: The name tf.nn.fused_batch_norm is deprecated. Please use tf.compat.v1.nn.fused_batch_norm instead.\n",
      "\n"
     ]
    }
   ],
   "source": [
    "from tensorflow.keras.layers import Input, Dense, Flatten, Conv2D, MaxPooling2D, BatchNormalization, Dropout, Reshape, Concatenate, LeakyReLU\n",
    "from tensorflow.keras.optimizers import Adam\n",
    "from tensorflow.keras.models import Model \n",
    "x = Input(shape = (228, 228, 3))\n",
    "x1 = Conv2D(16, (3, 3), dilation_rate = 1, strides = 1, padding='same', activation = 'relu')(x)\n",
    "x1 = Conv2D(4, (1, 1), padding='same', activation = 'relu')(x1)\n",
    "x1 = BatchNormalization()(x1)\n",
    "x1 = MaxPooling2D(pool_size=(8, 8), padding='same')(x1)\n",
    "y = Flatten()(x1)\n",
    "y = Dropout(0.5)(y)\n",
    "y = Dense(1, activation = 'sigmoid')(y)\n",
    "cnn = Model(inputs = x, outputs = y)"
   ]
  },
  {
   "cell_type": "code",
   "execution_count": 16,
   "id": "be6a4746",
   "metadata": {},
   "outputs": [
    {
     "name": "stdout",
     "output_type": "stream",
     "text": [
      "WARNING:tensorflow:From C:\\Users\\joshi\\anaconda3\\Lib\\site-packages\\keras\\src\\optimizers\\__init__.py:309: The name tf.train.Optimizer is deprecated. Please use tf.compat.v1.train.Optimizer instead.\n",
      "\n"
     ]
    }
   ],
   "source": [
    "cnn.compile(optimizer='adam', loss='binary_crossentropy', metrics=['accuracy'])"
   ]
  },
  {
   "cell_type": "code",
   "execution_count": 17,
   "id": "acf57921",
   "metadata": {},
   "outputs": [
    {
     "name": "stdout",
     "output_type": "stream",
     "text": [
      "Epoch 1/25\n",
      "WARNING:tensorflow:From C:\\Users\\joshi\\anaconda3\\Lib\\site-packages\\keras\\src\\utils\\tf_utils.py:492: The name tf.ragged.RaggedTensorValue is deprecated. Please use tf.compat.v1.ragged.RaggedTensorValue instead.\n",
      "\n",
      "WARNING:tensorflow:From C:\\Users\\joshi\\anaconda3\\Lib\\site-packages\\keras\\src\\engine\\base_layer_utils.py:384: The name tf.executing_eagerly_outside_functions is deprecated. Please use tf.compat.v1.executing_eagerly_outside_functions instead.\n",
      "\n",
      "50/50 [==============================] - 121s 2s/step - loss: 0.7228 - accuracy: 0.5163 - val_loss: 0.6905 - val_accuracy: 0.5423\n",
      "Epoch 2/25\n",
      "50/50 [==============================] - 28s 552ms/step - loss: 0.6953 - accuracy: 0.5678 - val_loss: 0.6926 - val_accuracy: 0.5025\n",
      "Epoch 3/25\n",
      "50/50 [==============================] - 32s 633ms/step - loss: 0.6758 - accuracy: 0.5709 - val_loss: 0.6902 - val_accuracy: 0.5274\n",
      "Epoch 4/25\n",
      "50/50 [==============================] - 26s 522ms/step - loss: 0.6629 - accuracy: 0.5979 - val_loss: 0.6861 - val_accuracy: 0.6070\n",
      "Epoch 5/25\n",
      "50/50 [==============================] - 25s 506ms/step - loss: 0.6486 - accuracy: 0.6092 - val_loss: 0.6817 - val_accuracy: 0.6119\n",
      "Epoch 6/25\n",
      "50/50 [==============================] - 24s 489ms/step - loss: 0.6388 - accuracy: 0.6274 - val_loss: 0.6755 - val_accuracy: 0.6318\n",
      "Epoch 7/25\n",
      "50/50 [==============================] - 24s 487ms/step - loss: 0.6329 - accuracy: 0.6418 - val_loss: 0.6647 - val_accuracy: 0.6517\n",
      "Epoch 8/25\n",
      "50/50 [==============================] - 24s 479ms/step - loss: 0.6197 - accuracy: 0.6361 - val_loss: 0.6576 - val_accuracy: 0.6468\n",
      "Epoch 9/25\n",
      "50/50 [==============================] - 24s 489ms/step - loss: 0.6231 - accuracy: 0.6380 - val_loss: 0.6564 - val_accuracy: 0.6667\n",
      "Epoch 10/25\n",
      "50/50 [==============================] - 24s 484ms/step - loss: 0.6094 - accuracy: 0.6625 - val_loss: 0.6424 - val_accuracy: 0.6318\n",
      "Epoch 11/25\n",
      "50/50 [==============================] - 24s 478ms/step - loss: 0.6003 - accuracy: 0.6738 - val_loss: 0.6271 - val_accuracy: 0.7065\n",
      "Epoch 12/25\n",
      "50/50 [==============================] - 24s 477ms/step - loss: 0.5963 - accuracy: 0.6662 - val_loss: 0.5969 - val_accuracy: 0.6816\n",
      "Epoch 13/25\n",
      "50/50 [==============================] - 24s 480ms/step - loss: 0.5799 - accuracy: 0.6731 - val_loss: 0.5971 - val_accuracy: 0.6866\n",
      "Epoch 14/25\n",
      "50/50 [==============================] - 24s 480ms/step - loss: 0.5900 - accuracy: 0.6876 - val_loss: 0.5942 - val_accuracy: 0.7065\n",
      "Epoch 15/25\n",
      "50/50 [==============================] - 25s 502ms/step - loss: 0.5628 - accuracy: 0.6863 - val_loss: 0.5776 - val_accuracy: 0.7065\n",
      "Epoch 16/25\n",
      "50/50 [==============================] - 25s 491ms/step - loss: 0.5635 - accuracy: 0.6882 - val_loss: 0.5713 - val_accuracy: 0.6816\n",
      "Epoch 17/25\n",
      "50/50 [==============================] - 25s 492ms/step - loss: 0.5524 - accuracy: 0.7089 - val_loss: 0.5398 - val_accuracy: 0.7413\n",
      "Epoch 18/25\n",
      "50/50 [==============================] - 24s 486ms/step - loss: 0.5500 - accuracy: 0.6951 - val_loss: 0.5248 - val_accuracy: 0.7313\n",
      "Epoch 19/25\n",
      "50/50 [==============================] - 24s 488ms/step - loss: 0.5581 - accuracy: 0.6995 - val_loss: 0.5837 - val_accuracy: 0.6816\n",
      "Epoch 20/25\n",
      "50/50 [==============================] - 24s 479ms/step - loss: 0.5334 - accuracy: 0.7127 - val_loss: 0.5468 - val_accuracy: 0.6965\n",
      "Epoch 21/25\n",
      "50/50 [==============================] - 24s 486ms/step - loss: 0.5413 - accuracy: 0.7139 - val_loss: 0.5360 - val_accuracy: 0.7413\n",
      "Epoch 22/25\n",
      "50/50 [==============================] - 27s 532ms/step - loss: 0.5309 - accuracy: 0.7346 - val_loss: 0.5165 - val_accuracy: 0.7164\n",
      "Epoch 23/25\n",
      "50/50 [==============================] - 25s 489ms/step - loss: 0.5090 - accuracy: 0.7340 - val_loss: 0.5056 - val_accuracy: 0.7363\n",
      "Epoch 24/25\n",
      "50/50 [==============================] - 25s 492ms/step - loss: 0.5189 - accuracy: 0.7252 - val_loss: 0.5379 - val_accuracy: 0.7363\n",
      "Epoch 25/25\n",
      "50/50 [==============================] - 24s 486ms/step - loss: 0.5091 - accuracy: 0.7321 - val_loss: 0.5011 - val_accuracy: 0.7612\n"
     ]
    },
    {
     "data": {
      "text/plain": [
       "<keras.src.callbacks.History at 0x27cae4a3650>"
      ]
     },
     "execution_count": 17,
     "metadata": {},
     "output_type": "execute_result"
    }
   ],
   "source": [
    "cnn.fit(x=training_set,validation_data=test_set,epochs=25)"
   ]
  },
  {
   "cell_type": "code",
   "execution_count": null,
   "id": "e4ef6c73",
   "metadata": {},
   "outputs": [],
   "source": [
    "model.save(\"NASNet1.h5\")"
   ]
  },
  {
   "cell_type": "code",
   "execution_count": 19,
   "id": "b396adef",
   "metadata": {},
   "outputs": [
    {
     "data": {
      "text/plain": [
       "{'Fake': 0, 'Real': 1}"
      ]
     },
     "execution_count": 19,
     "metadata": {},
     "output_type": "execute_result"
    }
   ],
   "source": [
    "val_set.class_indices"
   ]
  },
  {
   "cell_type": "code",
   "execution_count": 18,
   "id": "38911e62",
   "metadata": {},
   "outputs": [
    {
     "name": "stdout",
     "output_type": "stream",
     "text": [
      "7/7 [==============================] - 1s 100ms/step\n"
     ]
    },
    {
     "data": {
      "image/png": "[encoded data removed]",
      "text/plain": [
       "<Figure size 640x480 with 2 Axes>"
      ]
     },
     "metadata": {},
     "output_type": "display_data"
    }
   ],
   "source": [
    "test_labels = val_set.classes\n",
    "predictions = cnn.predict(x=val_set, verbose=1)\n",
    "from sklearn.metrics import confusion_matrix, ConfusionMatrixDisplay\n",
    "from sklearn.metrics import classification_report\n",
    "from sklearn.metrics import accuracy_score\n",
    "from sklearn import metrics\n",
    "y_true=test_labels\n",
    "y_pred=predictions.argmax(axis=1)\n",
    "disp = ConfusionMatrixDisplay.from_predictions(y_true, y_pred, normalize='true')\n",
    "#plt.savefig(\"EffNet123\")"
   ]
  },
  {
   "cell_type": "code",
   "execution_count": 8,
   "id": "1896760b",
   "metadata": {},
   "outputs": [],
   "source": [
    "from tensorflow.keras.layers import Input, Dense, Flatten, Conv2D, MaxPooling2D, BatchNormalization, Dropout, Reshape, Concatenate, LeakyReLU\n",
    "from tensorflow.keras.optimizers import Adam\n",
    "from tensorflow.keras.models import Model \n",
    "x = Input(shape = (228, 228, 3))\n",
    "x1 = Conv2D(8, (3, 3), padding='same', activation = 'silu')(x)\n",
    "x1 = BatchNormalization()(x1)\n",
    "x1 = MaxPooling2D(pool_size=(2, 2), padding='same')(x1)\n",
    "\n",
    "x2 = Conv2D(8, (5, 5), padding='same', activation = 'silu')(x1)\n",
    "x2 = BatchNormalization()(x2)\n",
    "x2 = MaxPooling2D(pool_size=(2, 2), padding='same')(x2)\n",
    "\n",
    "x3 = Conv2D(16, (5, 5), padding='same', activation = 'silu')(x2)\n",
    "x3 = BatchNormalization()(x3)\n",
    "x3 = MaxPooling2D(pool_size=(2, 2), padding='same')(x3)\n",
    "\n",
    "x4 = Conv2D(16, (5, 5), padding='same', activation = 'silu')(x3)\n",
    "x4 = BatchNormalization()(x4)\n",
    "x4 = MaxPooling2D(pool_size=(4, 4), padding='same')(x4)\n",
    "\n",
    "y = Flatten()(x4)\n",
    "y = Dropout(0.5)(y)\n",
    "y = Dense(16)(y)\n",
    "y = LeakyReLU(alpha=0.1)(y)\n",
    "y = Dropout(0.5)(y)\n",
    "y = Dense(1, activation = 'sigmoid')(y)\n",
    "cnn = Model(inputs = x, outputs = y)"
   ]
  },
  {
   "cell_type": "code",
   "execution_count": 9,
   "id": "de08a3b4",
   "metadata": {},
   "outputs": [],
   "source": [
    "cnn.compile(optimizer=tf.keras.optimizers.Adam(), loss='binary_crossentropy', metrics=['accuracy'])"
   ]
  },
  {
   "cell_type": "code",
   "execution_count": 11,
   "id": "f1349e01",
   "metadata": {},
   "outputs": [
    {
     "name": "stdout",
     "output_type": "stream",
     "text": [
      "Epoch 1/100\n",
      "50/50 [==============================] - 32s 639ms/step - loss: 0.8074 - accuracy: 0.5263 - val_loss: 0.7103 - val_accuracy: 0.4975\n",
      "Epoch 2/100\n",
      "50/50 [==============================] - 33s 671ms/step - loss: 0.7566 - accuracy: 0.5483 - val_loss: 0.8451 - val_accuracy: 0.4975\n",
      "Epoch 3/100\n",
      "50/50 [==============================] - 32s 633ms/step - loss: 0.7593 - accuracy: 0.5402 - val_loss: 0.7157 - val_accuracy: 0.5025\n",
      "Epoch 4/100\n",
      "50/50 [==============================] - 32s 632ms/step - loss: 0.7137 - accuracy: 0.5759 - val_loss: 0.6830 - val_accuracy: 0.5821\n",
      "Epoch 5/100\n",
      "50/50 [==============================] - 31s 627ms/step - loss: 0.6915 - accuracy: 0.5859 - val_loss: 0.6846 - val_accuracy: 0.5473\n",
      "Epoch 6/100\n",
      "50/50 [==============================] - 31s 625ms/step - loss: 0.6812 - accuracy: 0.6016 - val_loss: 0.7183 - val_accuracy: 0.5274\n",
      "Epoch 7/100\n",
      "50/50 [==============================] - 31s 628ms/step - loss: 0.6732 - accuracy: 0.6136 - val_loss: 0.7602 - val_accuracy: 0.5174\n",
      "Epoch 8/100\n",
      "50/50 [==============================] - 31s 624ms/step - loss: 0.6682 - accuracy: 0.6148 - val_loss: 0.7524 - val_accuracy: 0.5274\n",
      "Epoch 9/100\n",
      "50/50 [==============================] - 31s 624ms/step - loss: 0.6425 - accuracy: 0.6167 - val_loss: 0.6931 - val_accuracy: 0.5970\n",
      "Epoch 10/100\n",
      "50/50 [==============================] - 31s 625ms/step - loss: 0.6267 - accuracy: 0.6543 - val_loss: 0.6617 - val_accuracy: 0.6368\n",
      "Epoch 11/100\n",
      "50/50 [==============================] - 31s 628ms/step - loss: 0.6228 - accuracy: 0.6518 - val_loss: 0.8204 - val_accuracy: 0.5871\n",
      "Epoch 12/100\n",
      "50/50 [==============================] - 32s 628ms/step - loss: 0.5963 - accuracy: 0.6844 - val_loss: 0.6767 - val_accuracy: 0.5871\n",
      "Epoch 13/100\n",
      "50/50 [==============================] - 31s 628ms/step - loss: 0.5703 - accuracy: 0.6970 - val_loss: 0.5801 - val_accuracy: 0.6617\n",
      "Epoch 14/100\n",
      "50/50 [==============================] - 32s 634ms/step - loss: 0.5664 - accuracy: 0.7077 - val_loss: 0.6708 - val_accuracy: 0.6020\n",
      "Epoch 15/100\n",
      "50/50 [==============================] - 32s 647ms/step - loss: 0.5383 - accuracy: 0.7246 - val_loss: 0.7614 - val_accuracy: 0.6468\n",
      "Epoch 16/100\n",
      "50/50 [==============================] - 37s 732ms/step - loss: 0.5218 - accuracy: 0.7434 - val_loss: 0.5465 - val_accuracy: 0.7363\n",
      "Epoch 17/100\n",
      "50/50 [==============================] - 35s 705ms/step - loss: 0.4998 - accuracy: 0.7660 - val_loss: 0.6031 - val_accuracy: 0.6816\n",
      "Epoch 18/100\n",
      "50/50 [==============================] - 33s 664ms/step - loss: 0.4929 - accuracy: 0.7491 - val_loss: 0.4766 - val_accuracy: 0.7662\n",
      "Epoch 19/100\n",
      "50/50 [==============================] - 32s 645ms/step - loss: 0.4839 - accuracy: 0.7698 - val_loss: 0.6701 - val_accuracy: 0.6020\n",
      "Epoch 20/100\n",
      "50/50 [==============================] - 33s 656ms/step - loss: 0.4252 - accuracy: 0.7930 - val_loss: 0.4822 - val_accuracy: 0.7313\n",
      "Epoch 21/100\n",
      "50/50 [==============================] - 32s 645ms/step - loss: 0.4175 - accuracy: 0.8093 - val_loss: 0.4937 - val_accuracy: 0.7065\n",
      "Epoch 22/100\n",
      "50/50 [==============================] - 32s 648ms/step - loss: 0.4237 - accuracy: 0.7992 - val_loss: 0.7985 - val_accuracy: 0.6219\n",
      "Epoch 23/100\n",
      "50/50 [==============================] - 33s 660ms/step - loss: 0.4331 - accuracy: 0.8018 - val_loss: 0.6657 - val_accuracy: 0.7015\n",
      "Epoch 24/100\n",
      "50/50 [==============================] - 33s 667ms/step - loss: 0.3769 - accuracy: 0.8281 - val_loss: 0.2756 - val_accuracy: 0.8905\n",
      "Epoch 25/100\n",
      "50/50 [==============================] - 33s 649ms/step - loss: 0.3981 - accuracy: 0.8306 - val_loss: 0.3093 - val_accuracy: 0.9104\n",
      "Epoch 26/100\n",
      "50/50 [==============================] - 33s 650ms/step - loss: 0.3436 - accuracy: 0.8419 - val_loss: 0.8462 - val_accuracy: 0.6468\n",
      "Epoch 27/100\n",
      "50/50 [==============================] - 33s 648ms/step - loss: 0.3248 - accuracy: 0.8538 - val_loss: 0.2919 - val_accuracy: 0.8408\n",
      "Epoch 28/100\n",
      "50/50 [==============================] - 32s 639ms/step - loss: 0.2776 - accuracy: 0.8789 - val_loss: 0.4850 - val_accuracy: 0.7761\n",
      "Epoch 29/100\n",
      "50/50 [==============================] - 33s 652ms/step - loss: 0.3113 - accuracy: 0.8714 - val_loss: 0.2843 - val_accuracy: 0.8458\n",
      "Epoch 30/100\n",
      "50/50 [==============================] - 33s 662ms/step - loss: 0.3183 - accuracy: 0.8689 - val_loss: 0.5169 - val_accuracy: 0.7264\n",
      "Epoch 31/100\n",
      "50/50 [==============================] - 33s 659ms/step - loss: 0.3122 - accuracy: 0.8777 - val_loss: 1.0425 - val_accuracy: 0.5522\n",
      "Epoch 32/100\n",
      "50/50 [==============================] - 33s 657ms/step - loss: 0.2740 - accuracy: 0.8789 - val_loss: 0.2744 - val_accuracy: 0.8657\n",
      "Epoch 33/100\n",
      "50/50 [==============================] - 39s 775ms/step - loss: 0.2551 - accuracy: 0.8984 - val_loss: 0.4133 - val_accuracy: 0.8458\n",
      "Epoch 34/100\n",
      "50/50 [==============================] - 42s 834ms/step - loss: 0.3100 - accuracy: 0.8726 - val_loss: 0.3490 - val_accuracy: 0.8109\n",
      "Epoch 35/100\n",
      "50/50 [==============================] - 39s 753ms/step - loss: 0.2690 - accuracy: 0.9003 - val_loss: 0.3249 - val_accuracy: 0.8209\n",
      "Epoch 36/100\n",
      "50/50 [==============================] - 35s 690ms/step - loss: 0.2412 - accuracy: 0.8990 - val_loss: 0.2887 - val_accuracy: 0.8109\n",
      "Epoch 37/100\n",
      "50/50 [==============================] - 36s 711ms/step - loss: 0.2414 - accuracy: 0.9028 - val_loss: 0.2741 - val_accuracy: 0.8507\n",
      "Epoch 38/100\n",
      "50/50 [==============================] - 42s 844ms/step - loss: 0.2684 - accuracy: 0.8940 - val_loss: 0.2729 - val_accuracy: 0.8756\n",
      "Epoch 39/100\n",
      "50/50 [==============================] - 46s 928ms/step - loss: 0.2384 - accuracy: 0.8959 - val_loss: 0.3046 - val_accuracy: 0.8308\n",
      "Epoch 40/100\n",
      "50/50 [==============================] - 51s 1s/step - loss: 0.2886 - accuracy: 0.8783 - val_loss: 0.2703 - val_accuracy: 0.8955\n",
      "Epoch 41/100\n",
      "50/50 [==============================] - 52s 1s/step - loss: 0.2224 - accuracy: 0.9072 - val_loss: 0.2725 - val_accuracy: 0.8507\n",
      "Epoch 42/100\n",
      "50/50 [==============================] - 52s 1s/step - loss: 0.2288 - accuracy: 0.9097 - val_loss: 0.2811 - val_accuracy: 0.8507\n",
      "Epoch 43/100\n",
      "50/50 [==============================] - 53s 1s/step - loss: 0.2004 - accuracy: 0.9159 - val_loss: 0.3923 - val_accuracy: 0.8060\n",
      "Epoch 44/100\n",
      "50/50 [==============================] - 51s 1s/step - loss: 0.1934 - accuracy: 0.9235 - val_loss: 0.1933 - val_accuracy: 0.9055\n",
      "Epoch 45/100\n",
      "50/50 [==============================] - 52s 1s/step - loss: 0.1926 - accuracy: 0.9184 - val_loss: 0.4914 - val_accuracy: 0.8060\n",
      "Epoch 46/100\n",
      "50/50 [==============================] - 52s 1s/step - loss: 0.2328 - accuracy: 0.9040 - val_loss: 0.3276 - val_accuracy: 0.8458\n",
      "Epoch 47/100\n",
      "50/50 [==============================] - 51s 1s/step - loss: 0.2202 - accuracy: 0.9134 - val_loss: 0.2474 - val_accuracy: 0.8856\n",
      "Epoch 48/100\n",
      "50/50 [==============================] - 52s 1s/step - loss: 0.1847 - accuracy: 0.9253 - val_loss: 0.2844 - val_accuracy: 0.8756\n",
      "Epoch 49/100\n",
      "50/50 [==============================] - 52s 1s/step - loss: 0.1990 - accuracy: 0.9184 - val_loss: 0.4889 - val_accuracy: 0.8060\n",
      "Epoch 50/100\n",
      "50/50 [==============================] - 53s 1s/step - loss: 0.1852 - accuracy: 0.9272 - val_loss: 0.4507 - val_accuracy: 0.8060\n",
      "Epoch 51/100\n",
      "50/50 [==============================] - 52s 1s/step - loss: 0.1611 - accuracy: 0.9329 - val_loss: 0.1972 - val_accuracy: 0.9453\n",
      "Epoch 52/100\n",
      "50/50 [==============================] - 51s 1s/step - loss: 0.2514 - accuracy: 0.9021 - val_loss: 0.3225 - val_accuracy: 0.9005\n",
      "Epoch 53/100\n",
      "50/50 [==============================] - 52s 1s/step - loss: 0.2110 - accuracy: 0.9078 - val_loss: 0.2295 - val_accuracy: 0.9104\n",
      "Epoch 54/100\n",
      "50/50 [==============================] - 52s 1s/step - loss: 0.1844 - accuracy: 0.9235 - val_loss: 0.3681 - val_accuracy: 0.8159\n",
      "Epoch 55/100\n",
      "50/50 [==============================] - 52s 1s/step - loss: 0.1709 - accuracy: 0.9304 - val_loss: 0.4349 - val_accuracy: 0.7861\n",
      "Epoch 56/100\n",
      "50/50 [==============================] - 52s 1s/step - loss: 0.1767 - accuracy: 0.9385 - val_loss: 0.3774 - val_accuracy: 0.8408\n",
      "Epoch 57/100\n",
      "50/50 [==============================] - 52s 1s/step - loss: 0.1776 - accuracy: 0.9297 - val_loss: 0.3266 - val_accuracy: 0.8209\n"
     ]
    },
    {
     "name": "stdout",
     "output_type": "stream",
     "text": [
      "Epoch 58/100\n",
      "50/50 [==============================] - 52s 1s/step - loss: 0.1722 - accuracy: 0.9322 - val_loss: 0.1173 - val_accuracy: 0.9453\n",
      "Epoch 59/100\n",
      "50/50 [==============================] - 51s 1s/step - loss: 0.1298 - accuracy: 0.9454 - val_loss: 0.3818 - val_accuracy: 0.8259\n",
      "Epoch 60/100\n",
      "50/50 [==============================] - 53s 1s/step - loss: 0.1629 - accuracy: 0.9316 - val_loss: 0.3983 - val_accuracy: 0.8159\n",
      "Epoch 61/100\n",
      "50/50 [==============================] - 52s 1s/step - loss: 0.1920 - accuracy: 0.9348 - val_loss: 0.3629 - val_accuracy: 0.7861\n",
      "Epoch 62/100\n",
      "50/50 [==============================] - 52s 1s/step - loss: 0.1239 - accuracy: 0.9536 - val_loss: 0.3255 - val_accuracy: 0.8358\n",
      "Epoch 63/100\n",
      "50/50 [==============================] - 52s 1s/step - loss: 0.1468 - accuracy: 0.9429 - val_loss: 0.3067 - val_accuracy: 0.8408\n",
      "Epoch 64/100\n",
      "50/50 [==============================] - 54s 1s/step - loss: 0.1339 - accuracy: 0.9479 - val_loss: 0.6815 - val_accuracy: 0.7910\n",
      "Epoch 65/100\n",
      "50/50 [==============================] - 54s 1s/step - loss: 0.1785 - accuracy: 0.9228 - val_loss: 0.2463 - val_accuracy: 0.9005\n",
      "Epoch 66/100\n",
      "50/50 [==============================] - 50s 1s/step - loss: 0.1513 - accuracy: 0.9379 - val_loss: 0.2123 - val_accuracy: 0.8756\n",
      "Epoch 67/100\n",
      "50/50 [==============================] - 50s 998ms/step - loss: 0.1232 - accuracy: 0.9473 - val_loss: 0.4092 - val_accuracy: 0.8856\n",
      "Epoch 68/100\n",
      "50/50 [==============================] - 50s 1s/step - loss: 0.1519 - accuracy: 0.9473 - val_loss: 0.1514 - val_accuracy: 0.9303\n",
      "Epoch 69/100\n",
      "50/50 [==============================] - 50s 1s/step - loss: 0.1462 - accuracy: 0.9404 - val_loss: 0.2027 - val_accuracy: 0.9005\n",
      "Epoch 70/100\n",
      "50/50 [==============================] - 50s 1000ms/step - loss: 0.1449 - accuracy: 0.9454 - val_loss: 0.3629 - val_accuracy: 0.8507\n",
      "Epoch 71/100\n",
      "50/50 [==============================] - 52s 1s/step - loss: 0.1381 - accuracy: 0.9460 - val_loss: 0.2768 - val_accuracy: 0.8706\n",
      "Epoch 72/100\n",
      "50/50 [==============================] - 51s 1s/step - loss: 0.1403 - accuracy: 0.9467 - val_loss: 0.6925 - val_accuracy: 0.7910\n",
      "Epoch 73/100\n",
      "50/50 [==============================] - 51s 1s/step - loss: 0.1264 - accuracy: 0.9523 - val_loss: 0.2554 - val_accuracy: 0.8905\n",
      "Epoch 74/100\n",
      "50/50 [==============================] - 52s 1s/step - loss: 0.1386 - accuracy: 0.9492 - val_loss: 0.1091 - val_accuracy: 0.9552\n",
      "Epoch 75/100\n",
      "50/50 [==============================] - 51s 1s/step - loss: 0.1590 - accuracy: 0.9435 - val_loss: 0.3950 - val_accuracy: 0.8507\n",
      "Epoch 76/100\n",
      "50/50 [==============================] - 51s 1s/step - loss: 0.1293 - accuracy: 0.9473 - val_loss: 0.2690 - val_accuracy: 0.8706\n",
      "Epoch 77/100\n",
      "50/50 [==============================] - 52s 1s/step - loss: 0.1100 - accuracy: 0.9561 - val_loss: 0.1761 - val_accuracy: 0.9254\n",
      "Epoch 78/100\n",
      "50/50 [==============================] - 51s 1s/step - loss: 0.1283 - accuracy: 0.9529 - val_loss: 0.1853 - val_accuracy: 0.9652\n",
      "Epoch 79/100\n",
      "50/50 [==============================] - 50s 1s/step - loss: 0.1493 - accuracy: 0.9410 - val_loss: 0.3468 - val_accuracy: 0.8507\n",
      "Epoch 80/100\n",
      "50/50 [==============================] - 51s 1s/step - loss: 0.1022 - accuracy: 0.9605 - val_loss: 0.2334 - val_accuracy: 0.9005\n",
      "Epoch 81/100\n",
      "50/50 [==============================] - 51s 1s/step - loss: 0.1107 - accuracy: 0.9573 - val_loss: 0.3656 - val_accuracy: 0.8507\n",
      "Epoch 82/100\n",
      "50/50 [==============================] - 50s 996ms/step - loss: 0.1200 - accuracy: 0.9523 - val_loss: 0.7942 - val_accuracy: 0.6716\n",
      "Epoch 83/100\n",
      "50/50 [==============================] - 51s 1s/step - loss: 0.1303 - accuracy: 0.9567 - val_loss: 0.1630 - val_accuracy: 0.9104\n",
      "Epoch 84/100\n",
      "50/50 [==============================] - 51s 1s/step - loss: 0.1132 - accuracy: 0.9555 - val_loss: 0.4074 - val_accuracy: 0.8607\n",
      "Epoch 85/100\n",
      "50/50 [==============================] - 50s 1s/step - loss: 0.1210 - accuracy: 0.9504 - val_loss: 0.4887 - val_accuracy: 0.8358\n",
      "Epoch 86/100\n",
      "50/50 [==============================] - 51s 1s/step - loss: 0.1047 - accuracy: 0.9586 - val_loss: 0.1819 - val_accuracy: 0.9353\n",
      "Epoch 87/100\n",
      "50/50 [==============================] - 51s 1s/step - loss: 0.1143 - accuracy: 0.9573 - val_loss: 0.1748 - val_accuracy: 0.9453\n",
      "Epoch 88/100\n",
      "50/50 [==============================] - 51s 1s/step - loss: 0.1020 - accuracy: 0.9661 - val_loss: 0.1456 - val_accuracy: 0.9453\n",
      "Epoch 89/100\n",
      "50/50 [==============================] - 51s 1s/step - loss: 0.0918 - accuracy: 0.9686 - val_loss: 0.5403 - val_accuracy: 0.8458\n",
      "Epoch 90/100\n",
      "50/50 [==============================] - 51s 1s/step - loss: 0.1442 - accuracy: 0.9479 - val_loss: 0.5951 - val_accuracy: 0.8557\n",
      "Epoch 91/100\n",
      "50/50 [==============================] - 52s 1s/step - loss: 0.1246 - accuracy: 0.9498 - val_loss: 0.2305 - val_accuracy: 0.9005\n",
      "Epoch 92/100\n",
      "50/50 [==============================] - 51s 1s/step - loss: 0.1046 - accuracy: 0.9624 - val_loss: 1.4445 - val_accuracy: 0.6965\n",
      "Epoch 93/100\n",
      "50/50 [==============================] - 52s 1s/step - loss: 0.1263 - accuracy: 0.9592 - val_loss: 0.4712 - val_accuracy: 0.8458\n",
      "Epoch 94/100\n",
      "50/50 [==============================] - 52s 1s/step - loss: 0.1003 - accuracy: 0.9580 - val_loss: 0.3541 - val_accuracy: 0.9254\n",
      "Epoch 95/100\n",
      "50/50 [==============================] - 52s 1s/step - loss: 0.1383 - accuracy: 0.9504 - val_loss: 0.3419 - val_accuracy: 0.9154\n",
      "Epoch 96/100\n",
      "50/50 [==============================] - 51s 1s/step - loss: 0.0969 - accuracy: 0.9624 - val_loss: 0.1651 - val_accuracy: 0.9303\n",
      "Epoch 97/100\n",
      "50/50 [==============================] - 51s 1s/step - loss: 0.1239 - accuracy: 0.9536 - val_loss: 0.3481 - val_accuracy: 0.8955\n",
      "Epoch 98/100\n",
      "50/50 [==============================] - 51s 1s/step - loss: 0.1538 - accuracy: 0.9442 - val_loss: 0.2023 - val_accuracy: 0.9353\n",
      "Epoch 99/100\n",
      "50/50 [==============================] - 51s 1s/step - loss: 0.1245 - accuracy: 0.9542 - val_loss: 0.5179 - val_accuracy: 0.7512\n",
      "Epoch 100/100\n",
      "50/50 [==============================] - 51s 1s/step - loss: 0.1056 - accuracy: 0.9598 - val_loss: 0.5973 - val_accuracy: 0.8259\n"
     ]
    },
    {
     "data": {
      "text/plain": [
       "<keras.src.callbacks.History at 0x1f2a38053d0>"
      ]
     },
     "execution_count": 11,
     "metadata": {},
     "output_type": "execute_result"
    }
   ],
   "source": [
    "cnn.fit(x=training_set,validation_data=test_set,epochs=100)"
   ]
  },
  {
   "cell_type": "code",
   "execution_count": 12,
   "id": "3c903abb",
   "metadata": {},
   "outputs": [
    {
     "name": "stdout",
     "output_type": "stream",
     "text": [
      "7/7 [==============================] - 2s 154ms/step\n"
     ]
    },
    {
     "data": {
      "image/png": "[encoded data removed]",
      "text/plain": [
       "<Figure size 640x480 with 2 Axes>"
      ]
     },
     "metadata": {},
     "output_type": "display_data"
    }
   ],
   "source": [
    "test_labels = val_set.classes\n",
    "predictions = cnn.predict(x=val_set, verbose=1)\n",
    "from sklearn.metrics import confusion_matrix, ConfusionMatrixDisplay\n",
    "from sklearn.metrics import classification_report\n",
    "from sklearn.metrics import accuracy_score\n",
    "from sklearn import metrics\n",
    "y_true=test_labels\n",
    "y_pred=predictions.argmax(axis=1)\n",
    "disp = ConfusionMatrixDisplay.from_predictions(y_true, y_pred, normalize='true')\n",
    "#plt.savefig(\"EffNet123\")"
   ]
  },
  {
   "cell_type": "code",
   "execution_count": null,
   "id": "b9093a04",
   "metadata": {},
   "outputs": [],
   "source": []
  }
 ],
 "metadata": {
  "kernelspec": {
   "display_name": "Python 3 (ipykernel)",
   "language": "python",
   "name": "python3"
  },
  "language_info": {
   "codemirror_mode": {
    "name": "ipython",
    "version": 3
   },
   "file_extension": ".py",
   "mimetype": "text/x-python",
   "name": "python",
   "nbconvert_exporter": "python",
   "pygments_lexer": "ipython3",
   "version": "3.11.5"
  }
 },
 "nbformat": 4,
 "nbformat_minor": 5
}
