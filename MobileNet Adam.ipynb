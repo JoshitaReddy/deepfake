{
 "cells": [
  {
   "cell_type": "code",
   "execution_count": 1,
   "id": "25f751d6",
   "metadata": {},
   "outputs": [
    {
     "name": "stdout",
     "output_type": "stream",
     "text": [
      "WARNING:tensorflow:From C:\\Users\\joshi\\anaconda3\\Lib\\site-packages\\keras\\src\\losses.py:2976: The name tf.losses.sparse_softmax_cross_entropy is deprecated. Please use tf.compat.v1.losses.sparse_softmax_cross_entropy instead.\n",
      "\n"
     ]
    }
   ],
   "source": [
    "import tensorflow as tf\n",
    "from tensorflow.keras import layers, models\n",
    "from tensorflow.keras.preprocessing.image import ImageDataGenerator\n",
    "from keras.models import Model\n",
    "from keras.layers import Dense, GlobalAveragePooling2D"
   ]
  },
  {
   "cell_type": "code",
   "execution_count": 2,
   "id": "8c24b11a",
   "metadata": {},
   "outputs": [],
   "source": [
    "labels = ['Real','Fake']"
   ]
  },
  {
   "cell_type": "code",
   "execution_count": 3,
   "id": "bd7f15c8",
   "metadata": {},
   "outputs": [
    {
     "name": "stdout",
     "output_type": "stream",
     "text": [
      "Found 12235 images belonging to 2 classes.\n",
      "Found 2624 images belonging to 2 classes.\n",
      "Found 2621 images belonging to 2 classes.\n"
     ]
    }
   ],
   "source": [
    "train_datagen = ImageDataGenerator(rescale = 1./255,\n",
    "                                   shear_range = 0.2,\n",
    "                                   zoom_range = 0.2,\n",
    "                                   horizontal_flip = True)\n",
    "training_set = train_datagen.flow_from_directory(\"C:/Users/joshi/OneDrive/Desktop/FaceForensics++/ImagesFinal/train\",\n",
    "                                                 target_size = (192, 192),\n",
    "                                                 batch_size = 32,\n",
    "                                                 class_mode = 'binary')\n",
    "test_datagen=ImageDataGenerator(rescale=1./255)\n",
    "test_batches = test_datagen.flow_from_directory('C:/Users/joshi/OneDrive/Desktop/FaceForensics++/ImagesFinal/test',\n",
    "                                            target_size = (192, 192),\n",
    "                                            batch_size = 32,\n",
    "                                            class_mode = 'binary')\n",
    "val_datagen=ImageDataGenerator(rescale=1./255)\n",
    "val_batches = test_datagen.flow_from_directory('C:/Users/joshi/OneDrive/Desktop/FaceForensics++/ImagesFinal/val',\n",
    "                                            target_size = (192,192),\n",
    "                                            batch_size = 32,\n",
    "                                            class_mode = 'binary')"
   ]
  },
  {
   "cell_type": "code",
   "execution_count": 6,
   "id": "d598dd98",
   "metadata": {},
   "outputs": [
    {
     "name": "stdout",
     "output_type": "stream",
     "text": [
      "WARNING:tensorflow:`input_shape` is undefined or non-square, or `rows` is not in [128, 160, 192, 224]. Weights for input shape (224, 224) will be loaded as the default.\n",
      "WARNING:tensorflow:From C:\\Users\\joshi\\anaconda3\\Lib\\site-packages\\keras\\src\\backend.py:1398: The name tf.executing_eagerly_outside_functions is deprecated. Please use tf.compat.v1.executing_eagerly_outside_functions instead.\n",
      "\n",
      "WARNING:tensorflow:From C:\\Users\\joshi\\anaconda3\\Lib\\site-packages\\keras\\src\\layers\\normalization\\batch_normalization.py:979: The name tf.nn.fused_batch_norm is deprecated. Please use tf.compat.v1.nn.fused_batch_norm instead.\n",
      "\n"
     ]
    }
   ],
   "source": [
    "mobile_model = tf.keras.applications.MobileNet(weights='imagenet', include_top=False, input_shape=(192, 192, 3))"
   ]
  },
  {
   "cell_type": "code",
   "execution_count": 7,
   "id": "56e7c66b",
   "metadata": {},
   "outputs": [],
   "source": [
    "x = mobile_model.output\n",
    "x = tf.keras.layers.GlobalAveragePooling2D()(x)\n",
    "x = Dense(1024, activation='relu')(x)\n",
    "output = Dense(units=1, activation='sigmoid')(x)"
   ]
  },
  {
   "cell_type": "code",
   "execution_count": 8,
   "id": "9b107adf",
   "metadata": {},
   "outputs": [],
   "source": [
    "model = Model(inputs=mobile_model.input, outputs=output)"
   ]
  },
  {
   "cell_type": "code",
   "execution_count": 9,
   "id": "be6a4746",
   "metadata": {},
   "outputs": [
    {
     "name": "stdout",
     "output_type": "stream",
     "text": [
      "WARNING:tensorflow:From C:\\Users\\joshi\\anaconda3\\Lib\\site-packages\\keras\\src\\optimizers\\__init__.py:309: The name tf.train.Optimizer is deprecated. Please use tf.compat.v1.train.Optimizer instead.\n",
      "\n"
     ]
    }
   ],
   "source": [
    "model.compile(optimizer='adam', loss='binary_crossentropy', metrics=['accuracy'])"
   ]
  },
  {
   "cell_type": "code",
   "execution_count": 11,
   "id": "acf57921",
   "metadata": {
    "scrolled": true
   },
   "outputs": [
    {
     "name": "stdout",
     "output_type": "stream",
     "text": [
      "Epoch 1/20\n",
      "50/50 [==============================] - 131s 2s/step - loss: 0.3865 - accuracy: 0.8011 - val_loss: 3.6164 - val_accuracy: 0.5000\n",
      "Epoch 2/20\n",
      "50/50 [==============================] - 115s 2s/step - loss: 0.1979 - accuracy: 0.9199 - val_loss: 2.0140 - val_accuracy: 0.5000\n",
      "Epoch 3/20\n",
      "50/50 [==============================] - 119s 2s/step - loss: 0.1264 - accuracy: 0.9572 - val_loss: 3.1479 - val_accuracy: 0.5000\n",
      "Epoch 4/20\n",
      "50/50 [==============================] - 118s 2s/step - loss: 0.1053 - accuracy: 0.9674 - val_loss: 2.7728 - val_accuracy: 0.5000\n",
      "Epoch 5/20\n",
      "50/50 [==============================] - 118s 2s/step - loss: 0.0572 - accuracy: 0.9756 - val_loss: 5.6434 - val_accuracy: 0.5000\n",
      "Epoch 6/20\n",
      "50/50 [==============================] - 117s 2s/step - loss: 0.0788 - accuracy: 0.9694 - val_loss: 6.7453 - val_accuracy: 0.5000\n",
      "Epoch 7/20\n",
      "50/50 [==============================] - 119s 2s/step - loss: 0.0884 - accuracy: 0.9688 - val_loss: 4.5825 - val_accuracy: 0.5000\n",
      "Epoch 8/20\n",
      "50/50 [==============================] - 118s 2s/step - loss: 0.0881 - accuracy: 0.9694 - val_loss: 5.9903 - val_accuracy: 0.5000\n",
      "Epoch 9/20\n",
      "50/50 [==============================] - 117s 2s/step - loss: 0.0382 - accuracy: 0.9887 - val_loss: 4.0492 - val_accuracy: 0.5000\n",
      "Epoch 10/20\n",
      "50/50 [==============================] - 117s 2s/step - loss: 0.0460 - accuracy: 0.9842 - val_loss: 4.2186 - val_accuracy: 0.5000\n",
      "Epoch 11/20\n",
      "50/50 [==============================] - 117s 2s/step - loss: 0.0663 - accuracy: 0.9761 - val_loss: 3.0055 - val_accuracy: 0.5000\n",
      "Epoch 12/20\n",
      "50/50 [==============================] - 116s 2s/step - loss: 0.0287 - accuracy: 0.9937 - val_loss: 3.4779 - val_accuracy: 0.5000\n",
      "Epoch 13/20\n",
      "50/50 [==============================] - 120s 2s/step - loss: 0.0335 - accuracy: 0.9891 - val_loss: 4.6966 - val_accuracy: 0.5000\n",
      "Epoch 14/20\n",
      "50/50 [==============================] - 120s 2s/step - loss: 0.0239 - accuracy: 0.9919 - val_loss: 4.9692 - val_accuracy: 0.5000\n",
      "Epoch 15/20\n",
      "50/50 [==============================] - 118s 2s/step - loss: 0.0484 - accuracy: 0.9810 - val_loss: 4.6068 - val_accuracy: 0.5000\n",
      "Epoch 16/20\n",
      "50/50 [==============================] - 118s 2s/step - loss: 0.0216 - accuracy: 0.9925 - val_loss: 8.0667 - val_accuracy: 0.5000\n",
      "Epoch 17/20\n",
      "50/50 [==============================] - 120s 2s/step - loss: 0.0466 - accuracy: 0.9836 - val_loss: 8.1695 - val_accuracy: 0.5000\n",
      "Epoch 18/20\n",
      "50/50 [==============================] - 120s 2s/step - loss: 0.0576 - accuracy: 0.9819 - val_loss: 5.7393 - val_accuracy: 0.5000\n",
      "Epoch 19/20\n",
      "50/50 [==============================] - 119s 2s/step - loss: 0.0286 - accuracy: 0.9911 - val_loss: 3.0930 - val_accuracy: 0.5000\n",
      "Epoch 20/20\n",
      "50/50 [==============================] - 130s 3s/step - loss: 0.0072 - accuracy: 0.9987 - val_loss: 4.2144 - val_accuracy: 0.5000\n"
     ]
    },
    {
     "data": {
      "text/plain": [
       "<keras.src.callbacks.History at 0x1a0ce033290>"
      ]
     },
     "execution_count": 11,
     "metadata": {},
     "output_type": "execute_result"
    }
   ],
   "source": [
    "model.fit(x=training_set,\n",
    "          validation_data=valid_batches,\n",
    "          epochs=20\n",
    ")"
   ]
  },
  {
   "cell_type": "code",
   "execution_count": null,
   "id": "653a135b",
   "metadata": {},
   "outputs": [],
   "source": []
  }
 ],
 "metadata": {
  "kernelspec": {
   "display_name": "Python 3 (ipykernel)",
   "language": "python",
   "name": "python3"
  },
  "language_info": {
   "codemirror_mode": {
    "name": "ipython",
    "version": 3
   },
   "file_extension": ".py",
   "mimetype": "text/x-python",
   "name": "python",
   "nbconvert_exporter": "python",
   "pygments_lexer": "ipython3",
   "version": "3.11.5"
  }
 },
 "nbformat": 4,
 "nbformat_minor": 5
}
