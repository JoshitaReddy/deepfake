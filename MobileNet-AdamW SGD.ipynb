{
 "cells": [
  {
   "cell_type": "code",
   "execution_count": 2,
   "id": "25f751d6",
   "metadata": {},
   "outputs": [
    {
     "name": "stdout",
     "output_type": "stream",
     "text": [
      "WARNING:tensorflow:From C:\\Users\\joshi\\anaconda3\\Lib\\site-packages\\keras\\src\\losses.py:2976: The name tf.losses.sparse_softmax_cross_entropy is deprecated. Please use tf.compat.v1.losses.sparse_softmax_cross_entropy instead.\n",
      "\n"
     ]
    }
   ],
   "source": [
    "import tensorflow as tf\n",
    "from tensorflow.keras import layers, models\n",
    "from tensorflow.keras.preprocessing.image import ImageDataGenerator\n",
    "from keras.models import Model\n",
    "from keras.layers import Dense, GlobalAveragePooling2D"
   ]
  },
  {
   "cell_type": "code",
   "execution_count": 3,
   "id": "8c24b11a",
   "metadata": {},
   "outputs": [],
   "source": [
    "labels = ['Real','Fake']"
   ]
  },
  {
   "cell_type": "code",
   "execution_count": 4,
   "id": "bd7f15c8",
   "metadata": {},
   "outputs": [
    {
     "name": "stdout",
     "output_type": "stream",
     "text": [
      "Found 12235 images belonging to 2 classes.\n",
      "Found 2624 images belonging to 2 classes.\n",
      "Found 2621 images belonging to 2 classes.\n"
     ]
    }
   ],
   "source": [
    "train_datagen = ImageDataGenerator(rescale = 1./255,\n",
    "                                   shear_range = 0.2,\n",
    "                                   zoom_range = 0.2,\n",
    "                                   horizontal_flip = True)\n",
    "training_set = train_datagen.flow_from_directory(\"C:/Users/joshi/OneDrive/Desktop/FaceForensics++/ImagesFinal/train\",\n",
    "                                                 target_size = (192, 192),\n",
    "                                                 batch_size = 32,\n",
    "                                                 class_mode = 'binary')\n",
    "test_datagen=ImageDataGenerator(rescale=1./255)\n",
    "test_batches = test_datagen.flow_from_directory('C:/Users/joshi/OneDrive/Desktop/FaceForensics++/ImagesFinal/test',\n",
    "                                            target_size = (192, 192),\n",
    "                                            batch_size = 32,\n",
    "                                            class_mode = 'binary')\n",
    "val_datagen=ImageDataGenerator(rescale=1./255)\n",
    "val_batches = test_datagen.flow_from_directory('C:/Users/joshi/OneDrive/Desktop/FaceForensics++/ImagesFinal/val',\n",
    "                                            target_size = (192, 192),\n",
    "                                            batch_size = 32,\n",
    "                                            class_mode = 'binary')"
   ]
  },
  {
   "cell_type": "code",
   "execution_count": 3,
   "id": "d598dd98",
   "metadata": {},
   "outputs": [
    {
     "name": "stdout",
     "output_type": "stream",
     "text": [
      "WARNING:tensorflow:`input_shape` is undefined or non-square, or `rows` is not in [128, 160, 192, 224]. Weights for input shape (224, 224) will be loaded as the default.\n",
      "WARNING:tensorflow:From C:\\Users\\joshi\\anaconda3\\Lib\\site-packages\\keras\\src\\backend.py:1398: The name tf.executing_eagerly_outside_functions is deprecated. Please use tf.compat.v1.executing_eagerly_outside_functions instead.\n",
      "\n",
      "WARNING:tensorflow:From C:\\Users\\joshi\\anaconda3\\Lib\\site-packages\\keras\\src\\layers\\normalization\\batch_normalization.py:979: The name tf.nn.fused_batch_norm is deprecated. Please use tf.compat.v1.nn.fused_batch_norm instead.\n",
      "\n"
     ]
    }
   ],
   "source": [
    "mobile_model = tf.keras.applications.MobileNet(weights='imagenet', include_top=False, input_shape=(192,192,3))"
   ]
  },
  {
   "cell_type": "code",
   "execution_count": 4,
   "id": "56e7c66b",
   "metadata": {},
   "outputs": [],
   "source": [
    "x = mobile_model.output\n",
    "x = tf.keras.layers.GlobalAveragePooling2D()(x)\n",
    "x = Dense(1024, activation='relu')(x)\n",
    "output = Dense(units=1, activation='sigmoid')(x)"
   ]
  },
  {
   "cell_type": "code",
   "execution_count": 5,
   "id": "9b107adf",
   "metadata": {},
   "outputs": [],
   "source": [
    "model = Model(inputs=nasnet_model.input, outputs=output)"
   ]
  },
  {
   "cell_type": "code",
   "execution_count": 6,
   "id": "be6a4746",
   "metadata": {},
   "outputs": [],
   "source": [
    "model.compile(optimizer=tf.keras.optimizers.AdamW(), loss='binary_crossentropy', metrics=['accuracy'])"
   ]
  },
  {
   "cell_type": "code",
   "execution_count": 7,
   "id": "6c77f10a",
   "metadata": {},
   "outputs": [
    {
     "name": "stdout",
     "output_type": "stream",
     "text": [
      "Epoch 1/50\n",
      "WARNING:tensorflow:From C:\\Users\\joshi\\anaconda3\\Lib\\site-packages\\keras\\src\\utils\\tf_utils.py:492: The name tf.ragged.RaggedTensorValue is deprecated. Please use tf.compat.v1.ragged.RaggedTensorValue instead.\n",
      "\n",
      "WARNING:tensorflow:From C:\\Users\\joshi\\anaconda3\\Lib\\site-packages\\keras\\src\\engine\\base_layer_utils.py:384: The name tf.executing_eagerly_outside_functions is deprecated. Please use tf.compat.v1.executing_eagerly_outside_functions instead.\n",
      "\n",
      "50/50 [==============================] - 139s 3s/step - loss: 0.4227 - accuracy: 0.8501 - val_loss: 3.8316 - val_accuracy: 0.6010\n",
      "Epoch 2/50\n",
      "50/50 [==============================] - 135s 3s/step - loss: 0.1270 - accuracy: 0.9492 - val_loss: 4.7323 - val_accuracy: 0.6313\n",
      "Epoch 3/50\n",
      "50/50 [==============================] - 122s 2s/step - loss: 0.0995 - accuracy: 0.9649 - val_loss: 8.5540 - val_accuracy: 0.5000\n",
      "Epoch 4/50\n",
      "50/50 [==============================] - 123s 2s/step - loss: 0.1069 - accuracy: 0.9630 - val_loss: 0.8985 - val_accuracy: 0.7121\n",
      "Epoch 5/50\n",
      "50/50 [==============================] - 122s 2s/step - loss: 0.0697 - accuracy: 0.9762 - val_loss: 0.9702 - val_accuracy: 0.7374\n",
      "Epoch 6/50\n",
      "50/50 [==============================] - 124s 2s/step - loss: 0.0491 - accuracy: 0.9837 - val_loss: 0.3251 - val_accuracy: 0.8434\n",
      "Epoch 7/50\n",
      "50/50 [==============================] - 119s 2s/step - loss: 0.0705 - accuracy: 0.9780 - val_loss: 0.7969 - val_accuracy: 0.7980\n",
      "Epoch 8/50\n",
      "50/50 [==============================] - 120s 2s/step - loss: 0.0354 - accuracy: 0.9875 - val_loss: 1.1254 - val_accuracy: 0.7475\n",
      "Epoch 9/50\n",
      "50/50 [==============================] - 122s 2s/step - loss: 0.0711 - accuracy: 0.9768 - val_loss: 0.6751 - val_accuracy: 0.7980\n",
      "Epoch 10/50\n",
      "50/50 [==============================] - 123s 2s/step - loss: 0.0503 - accuracy: 0.9793 - val_loss: 2.7761 - val_accuracy: 0.6515\n",
      "Epoch 11/50\n",
      "50/50 [==============================] - 123s 2s/step - loss: 0.0236 - accuracy: 0.9906 - val_loss: 0.2675 - val_accuracy: 0.8687\n",
      "Epoch 12/50\n",
      "50/50 [==============================] - 125s 2s/step - loss: 0.0274 - accuracy: 0.9912 - val_loss: 0.3826 - val_accuracy: 0.8283\n",
      "Epoch 13/50\n",
      "50/50 [==============================] - 125s 2s/step - loss: 0.0283 - accuracy: 0.9912 - val_loss: 0.8867 - val_accuracy: 0.7020\n",
      "Epoch 14/50\n",
      "50/50 [==============================] - 127s 3s/step - loss: 0.0301 - accuracy: 0.9887 - val_loss: 0.3109 - val_accuracy: 0.8535\n",
      "Epoch 15/50\n",
      "50/50 [==============================] - 127s 3s/step - loss: 0.0448 - accuracy: 0.9868 - val_loss: 0.5297 - val_accuracy: 0.8182\n",
      "Epoch 16/50\n",
      "50/50 [==============================] - 127s 3s/step - loss: 0.0339 - accuracy: 0.9912 - val_loss: 1.3331 - val_accuracy: 0.7626\n",
      "Epoch 17/50\n",
      "50/50 [==============================] - 128s 3s/step - loss: 0.0291 - accuracy: 0.9925 - val_loss: 0.5407 - val_accuracy: 0.8384\n",
      "Epoch 18/50\n",
      "50/50 [==============================] - 129s 3s/step - loss: 0.0411 - accuracy: 0.9856 - val_loss: 0.6494 - val_accuracy: 0.7879\n",
      "Epoch 19/50\n",
      "50/50 [==============================] - 129s 3s/step - loss: 0.0314 - accuracy: 0.9900 - val_loss: 0.4206 - val_accuracy: 0.8232\n",
      "Epoch 20/50\n",
      "50/50 [==============================] - 129s 3s/step - loss: 0.0366 - accuracy: 0.9868 - val_loss: 0.4665 - val_accuracy: 0.8232\n",
      "Epoch 21/50\n",
      "50/50 [==============================] - 130s 3s/step - loss: 0.0121 - accuracy: 0.9956 - val_loss: 0.3719 - val_accuracy: 0.8636\n",
      "Epoch 22/50\n",
      "50/50 [==============================] - 129s 3s/step - loss: 0.0072 - accuracy: 0.9962 - val_loss: 0.6676 - val_accuracy: 0.7626\n",
      "Epoch 23/50\n",
      "50/50 [==============================] - 130s 3s/step - loss: 0.0463 - accuracy: 0.9831 - val_loss: 1.6369 - val_accuracy: 0.7273\n",
      "Epoch 24/50\n",
      "50/50 [==============================] - 144s 3s/step - loss: 0.0614 - accuracy: 0.9743 - val_loss: 0.8544 - val_accuracy: 0.7374\n",
      "Epoch 25/50\n",
      "50/50 [==============================] - 177s 3s/step - loss: 0.0393 - accuracy: 0.9893 - val_loss: 0.5582 - val_accuracy: 0.8182\n",
      "Epoch 26/50\n",
      "50/50 [==============================] - 151s 3s/step - loss: 0.0214 - accuracy: 0.9944 - val_loss: 0.2582 - val_accuracy: 0.8788\n",
      "Epoch 27/50\n",
      "50/50 [==============================] - 159s 3s/step - loss: 0.0227 - accuracy: 0.9906 - val_loss: 0.6420 - val_accuracy: 0.8283\n",
      "Epoch 28/50\n",
      "50/50 [==============================] - 156s 3s/step - loss: 0.0056 - accuracy: 0.9987 - val_loss: 0.8295 - val_accuracy: 0.8636\n",
      "Epoch 29/50\n",
      "50/50 [==============================] - 161s 3s/step - loss: 0.0028 - accuracy: 0.9994 - val_loss: 0.9402 - val_accuracy: 0.8636\n",
      "Epoch 30/50\n",
      "50/50 [==============================] - 153s 3s/step - loss: 0.0110 - accuracy: 0.9962 - val_loss: 1.5465 - val_accuracy: 0.8434\n",
      "Epoch 31/50\n",
      "50/50 [==============================] - 162s 3s/step - loss: 0.0573 - accuracy: 0.9849 - val_loss: 0.7592 - val_accuracy: 0.6515\n",
      "Epoch 32/50\n",
      "50/50 [==============================] - 152s 3s/step - loss: 0.0340 - accuracy: 0.9906 - val_loss: 0.5339 - val_accuracy: 0.8030\n",
      "Epoch 33/50\n",
      "50/50 [==============================] - 158s 3s/step - loss: 0.0516 - accuracy: 0.9831 - val_loss: 0.4898 - val_accuracy: 0.7828\n",
      "Epoch 34/50\n",
      "50/50 [==============================] - 143s 3s/step - loss: 0.0118 - accuracy: 0.9956 - val_loss: 1.3464 - val_accuracy: 0.6869\n",
      "Epoch 35/50\n",
      "50/50 [==============================] - 132s 3s/step - loss: 0.0418 - accuracy: 0.9868 - val_loss: 0.3604 - val_accuracy: 0.7778\n",
      "Epoch 36/50\n",
      "50/50 [==============================] - 131s 3s/step - loss: 0.0131 - accuracy: 0.9956 - val_loss: 0.3966 - val_accuracy: 0.8081\n",
      "Epoch 37/50\n",
      "50/50 [==============================] - 1605s 33s/step - loss: 0.0104 - accuracy: 0.9975 - val_loss: 0.6032 - val_accuracy: 0.8131\n",
      "Epoch 38/50\n",
      "50/50 [==============================] - 129s 3s/step - loss: 0.0226 - accuracy: 0.9931 - val_loss: 0.5557 - val_accuracy: 0.8081\n",
      "Epoch 39/50\n",
      "50/50 [==============================] - 133s 3s/step - loss: 0.0289 - accuracy: 0.9906 - val_loss: 1.0227 - val_accuracy: 0.7980\n",
      "Epoch 40/50\n",
      "50/50 [==============================] - 131s 3s/step - loss: 0.0096 - accuracy: 0.9969 - val_loss: 1.8273 - val_accuracy: 0.7828\n",
      "Epoch 41/50\n",
      "50/50 [==============================] - 125s 3s/step - loss: 0.0073 - accuracy: 0.9975 - val_loss: 0.3796 - val_accuracy: 0.7929\n",
      "Epoch 42/50\n",
      "50/50 [==============================] - 129s 3s/step - loss: 0.0093 - accuracy: 0.9969 - val_loss: 1.0078 - val_accuracy: 0.8535\n",
      "Epoch 43/50\n",
      "50/50 [==============================] - 127s 3s/step - loss: 0.0148 - accuracy: 0.9956 - val_loss: 0.5261 - val_accuracy: 0.8586\n",
      "Epoch 44/50\n",
      "50/50 [==============================] - 131s 3s/step - loss: 0.0057 - accuracy: 0.9987 - val_loss: 0.3920 - val_accuracy: 0.7778\n",
      "Epoch 45/50\n",
      "50/50 [==============================] - 133s 3s/step - loss: 0.0055 - accuracy: 0.9975 - val_loss: 0.3896 - val_accuracy: 0.7475\n",
      "Epoch 46/50\n",
      "50/50 [==============================] - 134s 3s/step - loss: 0.0166 - accuracy: 0.9975 - val_loss: 0.6161 - val_accuracy: 0.7576\n",
      "Epoch 47/50\n",
      "50/50 [==============================] - 135s 3s/step - loss: 0.0193 - accuracy: 0.9944 - val_loss: 0.5328 - val_accuracy: 0.7626\n",
      "Epoch 48/50\n",
      "50/50 [==============================] - 129s 3s/step - loss: 0.0146 - accuracy: 0.9925 - val_loss: 0.6916 - val_accuracy: 0.7626\n",
      "Epoch 49/50\n",
      "50/50 [==============================] - 131s 3s/step - loss: 0.0104 - accuracy: 0.9950 - val_loss: 0.7771 - val_accuracy: 0.8232\n",
      "Epoch 50/50\n",
      "50/50 [==============================] - 130s 3s/step - loss: 0.0054 - accuracy: 0.9975 - val_loss: 2.2596 - val_accuracy: 0.7273\n"
     ]
    },
    {
     "data": {
      "text/plain": [
       "<keras.src.callbacks.History at 0x241af2c8750>"
      ]
     },
     "execution_count": 7,
     "metadata": {},
     "output_type": "execute_result"
    }
   ],
   "source": [
    "#AdamW\n",
    "model.fit(x=training_set,\n",
    "          validation_data=val_batches,\n",
    "          epochs=50\n",
    ")"
   ]
  },
  {
   "cell_type": "code",
   "execution_count": null,
   "id": "e4ef6c73",
   "metadata": {},
   "outputs": [],
   "source": [
    "model.save(\"MobileNetAdamW.h5\")"
   ]
  },
  {
   "cell_type": "code",
   "execution_count": 9,
   "id": "653a135b",
   "metadata": {},
   "outputs": [
    {
     "name": "stdout",
     "output_type": "stream",
     "text": [
      "WARNING:tensorflow:`input_shape` is undefined or non-square, or `rows` is not in [128, 160, 192, 224]. Weights for input shape (224, 224) will be loaded as the default.\n"
     ]
    }
   ],
   "source": [
    "#SGD\n",
    "nasnet_model = tf.keras.applications.MobileNet(weights='imagenet', include_top=False, input_shape=(192, 192,3))\n",
    "x = nasnet_model.output\n",
    "x = tf.keras.layers.GlobalAveragePooling2D()(x)\n",
    "x = Dense(1024, activation='relu')(x)\n",
    "output = Dense(units=1, activation='sigmoid')(x)\n",
    "model = Model(inputs=nasnet_model.input, outputs=output)\n",
    "model.compile(optimizer=tf.keras.optimizers.SGD(), loss='binary_crossentropy', metrics=['accuracy'])"
   ]
  },
  {
   "cell_type": "code",
   "execution_count": 10,
   "id": "9a3bf411",
   "metadata": {},
   "outputs": [
    {
     "name": "stdout",
     "output_type": "stream",
     "text": [
      "Epoch 1/50\n",
      "50/50 [==============================] - 143s 3s/step - loss: 0.4446 - accuracy: 0.7785 - val_loss: 0.8493 - val_accuracy: 0.5758\n",
      "Epoch 2/50\n",
      "50/50 [==============================] - 189s 4s/step - loss: 0.2579 - accuracy: 0.8915 - val_loss: 0.9998 - val_accuracy: 0.6010\n",
      "Epoch 3/50\n",
      "50/50 [==============================] - 160s 3s/step - loss: 0.1840 - accuracy: 0.9398 - val_loss: 0.7609 - val_accuracy: 0.6313\n",
      "Epoch 4/50\n",
      "50/50 [==============================] - 152s 3s/step - loss: 0.1215 - accuracy: 0.9649 - val_loss: 0.3619 - val_accuracy: 0.8434\n",
      "Epoch 5/50\n",
      "50/50 [==============================] - 161s 3s/step - loss: 0.1122 - accuracy: 0.9611 - val_loss: 0.3375 - val_accuracy: 0.8232\n",
      "Epoch 6/50\n",
      "50/50 [==============================] - 160s 3s/step - loss: 0.0766 - accuracy: 0.9780 - val_loss: 0.2795 - val_accuracy: 0.8687\n",
      "Epoch 7/50\n",
      "50/50 [==============================] - 151s 3s/step - loss: 0.0538 - accuracy: 0.9875 - val_loss: 0.2746 - val_accuracy: 0.8889\n",
      "Epoch 8/50\n",
      "50/50 [==============================] - 161s 3s/step - loss: 0.0501 - accuracy: 0.9837 - val_loss: 0.2955 - val_accuracy: 0.8485\n",
      "Epoch 9/50\n",
      "50/50 [==============================] - 162s 3s/step - loss: 0.0348 - accuracy: 0.9937 - val_loss: 0.3737 - val_accuracy: 0.8030\n",
      "Epoch 10/50\n",
      "50/50 [==============================] - 128s 3s/step - loss: 0.0324 - accuracy: 0.9912 - val_loss: 0.3970 - val_accuracy: 0.8232\n",
      "Epoch 11/50\n",
      "50/50 [==============================] - 121s 2s/step - loss: 0.0275 - accuracy: 0.9931 - val_loss: 0.3581 - val_accuracy: 0.8081\n",
      "Epoch 12/50\n",
      "50/50 [==============================] - 123s 2s/step - loss: 0.0277 - accuracy: 0.9925 - val_loss: 0.3653 - val_accuracy: 0.8232\n",
      "Epoch 13/50\n",
      "50/50 [==============================] - 123s 2s/step - loss: 0.0209 - accuracy: 0.9962 - val_loss: 0.3636 - val_accuracy: 0.7980\n",
      "Epoch 14/50\n",
      "50/50 [==============================] - 122s 2s/step - loss: 0.0177 - accuracy: 0.9975 - val_loss: 0.3140 - val_accuracy: 0.8283\n",
      "Epoch 15/50\n",
      "50/50 [==============================] - 121s 2s/step - loss: 0.0208 - accuracy: 0.9962 - val_loss: 0.3560 - val_accuracy: 0.8030\n",
      "Epoch 16/50\n",
      "50/50 [==============================] - 120s 2s/step - loss: 0.0192 - accuracy: 0.9969 - val_loss: 0.2522 - val_accuracy: 0.8636\n",
      "Epoch 17/50\n",
      "50/50 [==============================] - 121s 2s/step - loss: 0.0176 - accuracy: 0.9962 - val_loss: 0.2275 - val_accuracy: 0.8889\n",
      "Epoch 18/50\n",
      "50/50 [==============================] - 120s 2s/step - loss: 0.0120 - accuracy: 0.9975 - val_loss: 0.2498 - val_accuracy: 0.9040\n",
      "Epoch 19/50\n",
      "50/50 [==============================] - 119s 2s/step - loss: 0.0161 - accuracy: 0.9950 - val_loss: 0.2061 - val_accuracy: 0.9091\n",
      "Epoch 20/50\n",
      "50/50 [==============================] - 120s 2s/step - loss: 0.0098 - accuracy: 0.9975 - val_loss: 0.2986 - val_accuracy: 0.8384\n",
      "Epoch 21/50\n",
      "50/50 [==============================] - 119s 2s/step - loss: 0.0072 - accuracy: 0.9994 - val_loss: 0.3209 - val_accuracy: 0.8333\n",
      "Epoch 22/50\n",
      "50/50 [==============================] - 119s 2s/step - loss: 0.0177 - accuracy: 0.9962 - val_loss: 0.2821 - val_accuracy: 0.8535\n",
      "Epoch 23/50\n",
      "50/50 [==============================] - 118s 2s/step - loss: 0.0068 - accuracy: 0.9994 - val_loss: 0.3770 - val_accuracy: 0.8232\n",
      "Epoch 24/50\n",
      "50/50 [==============================] - 118s 2s/step - loss: 0.0111 - accuracy: 0.9981 - val_loss: 0.2979 - val_accuracy: 0.8586\n",
      "Epoch 25/50\n",
      "50/50 [==============================] - 118s 2s/step - loss: 0.0117 - accuracy: 0.9962 - val_loss: 0.3254 - val_accuracy: 0.8283\n",
      "Epoch 26/50\n",
      "50/50 [==============================] - 118s 2s/step - loss: 0.0069 - accuracy: 0.9981 - val_loss: 0.3184 - val_accuracy: 0.8434\n",
      "Epoch 27/50\n",
      "50/50 [==============================] - 117s 2s/step - loss: 0.0054 - accuracy: 0.9994 - val_loss: 0.3654 - val_accuracy: 0.7980\n",
      "Epoch 28/50\n",
      "50/50 [==============================] - 118s 2s/step - loss: 0.0077 - accuracy: 0.9981 - val_loss: 0.2470 - val_accuracy: 0.8636\n",
      "Epoch 29/50\n",
      "50/50 [==============================] - 119s 2s/step - loss: 0.0041 - accuracy: 0.9994 - val_loss: 0.2344 - val_accuracy: 0.8838\n",
      "Epoch 30/50\n",
      "50/50 [==============================] - 116s 2s/step - loss: 0.0053 - accuracy: 0.9994 - val_loss: 0.3522 - val_accuracy: 0.8182\n",
      "Epoch 31/50\n",
      "50/50 [==============================] - 117s 2s/step - loss: 0.0104 - accuracy: 0.9962 - val_loss: 0.2356 - val_accuracy: 0.8788\n",
      "Epoch 32/50\n",
      "50/50 [==============================] - 116s 2s/step - loss: 0.0033 - accuracy: 1.0000 - val_loss: 0.2792 - val_accuracy: 0.8535\n",
      "Epoch 33/50\n",
      "50/50 [==============================] - 116s 2s/step - loss: 0.0086 - accuracy: 0.9975 - val_loss: 0.3011 - val_accuracy: 0.8636\n",
      "Epoch 34/50\n",
      "50/50 [==============================] - 116s 2s/step - loss: 0.0036 - accuracy: 0.9994 - val_loss: 0.2802 - val_accuracy: 0.8586\n",
      "Epoch 35/50\n",
      "50/50 [==============================] - 117s 2s/step - loss: 0.0054 - accuracy: 0.9987 - val_loss: 0.2957 - val_accuracy: 0.8586\n",
      "Epoch 36/50\n",
      "50/50 [==============================] - 115s 2s/step - loss: 0.0038 - accuracy: 0.9994 - val_loss: 0.3935 - val_accuracy: 0.8232\n",
      "Epoch 37/50\n",
      "50/50 [==============================] - 115s 2s/step - loss: 0.0038 - accuracy: 1.0000 - val_loss: 0.2880 - val_accuracy: 0.8737\n",
      "Epoch 38/50\n",
      "50/50 [==============================] - 115s 2s/step - loss: 0.0046 - accuracy: 0.9987 - val_loss: 0.3271 - val_accuracy: 0.8485\n",
      "Epoch 39/50\n",
      "50/50 [==============================] - 115s 2s/step - loss: 0.0051 - accuracy: 0.9994 - val_loss: 0.3023 - val_accuracy: 0.8535\n",
      "Epoch 40/50\n",
      "50/50 [==============================] - 115s 2s/step - loss: 0.0025 - accuracy: 1.0000 - val_loss: 0.2759 - val_accuracy: 0.8737\n",
      "Epoch 41/50\n",
      "50/50 [==============================] - 115s 2s/step - loss: 0.0032 - accuracy: 1.0000 - val_loss: 0.2829 - val_accuracy: 0.8687\n",
      "Epoch 42/50\n",
      "50/50 [==============================] - 115s 2s/step - loss: 0.0020 - accuracy: 1.0000 - val_loss: 0.2628 - val_accuracy: 0.8687\n",
      "Epoch 43/50\n",
      "50/50 [==============================] - 116s 2s/step - loss: 0.0029 - accuracy: 1.0000 - val_loss: 0.2666 - val_accuracy: 0.8889\n",
      "Epoch 44/50\n",
      "50/50 [==============================] - 115s 2s/step - loss: 0.0029 - accuracy: 0.9994 - val_loss: 0.3363 - val_accuracy: 0.8434\n",
      "Epoch 45/50\n",
      "50/50 [==============================] - 115s 2s/step - loss: 0.0032 - accuracy: 0.9994 - val_loss: 0.3411 - val_accuracy: 0.8434\n",
      "Epoch 46/50\n",
      "50/50 [==============================] - 115s 2s/step - loss: 0.0032 - accuracy: 1.0000 - val_loss: 0.2764 - val_accuracy: 0.8788\n",
      "Epoch 47/50\n",
      "50/50 [==============================] - 115s 2s/step - loss: 0.0052 - accuracy: 0.9981 - val_loss: 0.3398 - val_accuracy: 0.8333\n",
      "Epoch 48/50\n",
      "50/50 [==============================] - 115s 2s/step - loss: 0.0030 - accuracy: 1.0000 - val_loss: 0.3020 - val_accuracy: 0.8333\n",
      "Epoch 49/50\n",
      "50/50 [==============================] - 119s 2s/step - loss: 0.0028 - accuracy: 1.0000 - val_loss: 0.3109 - val_accuracy: 0.8485\n",
      "Epoch 50/50\n",
      "50/50 [==============================] - 115s 2s/step - loss: 0.0047 - accuracy: 0.9987 - val_loss: 0.3197 - val_accuracy: 0.8636\n"
     ]
    },
    {
     "data": {
      "text/plain": [
       "<keras.src.callbacks.History at 0x24243594390>"
      ]
     },
     "execution_count": 10,
     "metadata": {},
     "output_type": "execute_result"
    }
   ],
   "source": [
    "model.fit(x=training_set,\n",
    "          validation_data=val_batches,\n",
    "          epochs=50\n",
    ")"
   ]
  },
  {
   "cell_type": "code",
   "execution_count": null,
   "id": "f0436821",
   "metadata": {},
   "outputs": [],
   "source": []
  }
 ],
 "metadata": {
  "kernelspec": {
   "display_name": "Python 3 (ipykernel)",
   "language": "python",
   "name": "python3"
  },
  "language_info": {
   "codemirror_mode": {
    "name": "ipython",
    "version": 3
   },
   "file_extension": ".py",
   "mimetype": "text/x-python",
   "name": "python",
   "nbconvert_exporter": "python",
   "pygments_lexer": "ipython3",
   "version": "3.11.5"
  }
 },
 "nbformat": 4,
 "nbformat_minor": 5
}
