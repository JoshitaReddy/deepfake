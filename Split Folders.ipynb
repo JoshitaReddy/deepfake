{
 "cells": [
  {
   "cell_type": "code",
   "execution_count": 1,
   "id": "884416f8",
   "metadata": {},
   "outputs": [],
   "source": [
    "import splitfolders"
   ]
  },
  {
   "cell_type": "code",
   "execution_count": 4,
   "id": "b7276c2e",
   "metadata": {},
   "outputs": [
    {
     "name": "stderr",
     "output_type": "stream",
     "text": [
      "Copying files: 17480 files [02:23, 121.61 files/s]\n"
     ]
    }
   ],
   "source": [
    "splitfolders.ratio(\"C:/Users/joshi/OneDrive/Desktop/FaceForensics++/Images\", \n",
    "                   output=\"C:/Users/joshi/OneDrive/Desktop/FaceForensics++/ImagesFinal\", ratio=(.7, .15, .15), seed=1243)"
   ]
  },
  {
   "cell_type": "code",
   "execution_count": 3,
   "id": "e2d17adf",
   "metadata": {},
   "outputs": [
    {
     "name": "stderr",
     "output_type": "stream",
     "text": [
      "Copying files: 1363 files [22:37,  1.00 files/s]\n"
     ]
    }
   ],
   "source": [
    "splitfolders.ratio(\"E:/FaceForensics++/\", \n",
    "                   output=\"E:/Videos\", ratio=(.7, .15, .15), seed=1243)"
   ]
  },
  {
   "cell_type": "code",
   "execution_count": null,
   "id": "5f2285e8",
   "metadata": {},
   "outputs": [],
   "source": []
  }
 ],
 "metadata": {
  "kernelspec": {
   "display_name": "Python 3 (ipykernel)",
   "language": "python",
   "name": "python3"
  },
  "language_info": {
   "codemirror_mode": {
    "name": "ipython",
    "version": 3
   },
   "file_extension": ".py",
   "mimetype": "text/x-python",
   "name": "python",
   "nbconvert_exporter": "python",
   "pygments_lexer": "ipython3",
   "version": "3.11.5"
  }
 },
 "nbformat": 4,
 "nbformat_minor": 5
}
